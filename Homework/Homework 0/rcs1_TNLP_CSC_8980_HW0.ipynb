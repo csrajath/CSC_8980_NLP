{
  "nbformat": 4,
  "nbformat_minor": 0,
  "metadata": {
    "colab": {
      "name": "rcs1_TNLP_CSC_8980_HW0",
      "provenance": [],
      "collapsed_sections": []
    },
    "kernelspec": {
      "name": "python3",
      "display_name": "Python 3"
    }
  },
  "cells": [
    {
      "cell_type": "markdown",
      "metadata": {
        "id": "Prn5M8pAnsMT"
      },
      "source": [
        "## Rajath Chikkatur Srinivasa - 002552425"
      ]
    },
    {
      "cell_type": "markdown",
      "metadata": {
        "id": "xfWKgFksrIdI"
      },
      "source": [
        "### 1. Write a function that finds the factorial of a number. Test the function finding the factorial of the number 10."
      ]
    },
    {
      "cell_type": "code",
      "metadata": {
        "id": "1ZhX8HNB21xD"
      },
      "source": [
        "# function\n",
        "def fact_find(num):\n",
        "  if num < 0: \n",
        "      return 'Test for a positive number, negative factorial cannot be permuted'\n",
        "  elif num == 0 or num == 1: \n",
        "      return 1\n",
        "  else:\n",
        "      fact =1\n",
        "      for i in range(1, num+1):\n",
        "          fact *=i\n",
        "      return fact"
      ],
      "execution_count": null,
      "outputs": []
    },
    {
      "cell_type": "code",
      "metadata": {
        "colab": {
          "base_uri": "https://localhost:8080/"
        },
        "id": "bhnSPibfAeiY",
        "outputId": "673d7a8a-b4a6-4570-f71c-4d39bda3043d"
      },
      "source": [
        "# testing\n",
        "print(fact_find(10), end='')"
      ],
      "execution_count": null,
      "outputs": [
        {
          "output_type": "stream",
          "text": [
            "3628800"
          ],
          "name": "stdout"
        }
      ]
    },
    {
      "cell_type": "markdown",
      "metadata": {
        "id": "q0RxZZbkyuOv"
      },
      "source": [
        "### 2. Write a function that determines if a number is a prime number. Test the function with the following numbers: 3 and 1251."
      ]
    },
    {
      "cell_type": "code",
      "metadata": {
        "id": "g8T_6-WsBTD6"
      },
      "source": [
        "def prime_check(num):\n",
        "  if num > 1:\n",
        "    for i in range(2, num):\n",
        "      if (num %i) == 0:\n",
        "        return f'{num} is not prime'\n",
        "    else:\n",
        "      return f'{num} is prime'\n",
        "  else:\n",
        "    return f'{num} not prime'"
      ],
      "execution_count": null,
      "outputs": []
    },
    {
      "cell_type": "code",
      "metadata": {
        "id": "yNDTrILjBTNo",
        "colab": {
          "base_uri": "https://localhost:8080/"
        },
        "outputId": "7233721d-b69c-4801-aaac-7e6b5a277ba9"
      },
      "source": [
        "# testing\n",
        "print(prime_check(3),'\\n',prime_check(1251),end='',)"
      ],
      "execution_count": null,
      "outputs": [
        {
          "output_type": "stream",
          "text": [
            "3 is prime \n",
            " 1251 is not prime"
          ],
          "name": "stdout"
        }
      ]
    },
    {
      "cell_type": "markdown",
      "metadata": {
        "id": "QJz0ALgcyzVB"
      },
      "source": [
        "### 3. Write a function that transposes a matrix. Test with a 3 x 3 identity matrix."
      ]
    },
    {
      "cell_type": "code",
      "metadata": {
        "id": "AYsOUEbsrTVn"
      },
      "source": [
        "#function\n",
        "def matrix_pose(matrix):\n",
        "  return [list(i) for i in zip(*matrix)]"
      ],
      "execution_count": null,
      "outputs": []
    },
    {
      "cell_type": "code",
      "metadata": {
        "colab": {
          "base_uri": "https://localhost:8080/"
        },
        "id": "PzYGxt7PrUlD",
        "outputId": "57ce661e-183a-4b07-c322-436ac3775c7b"
      },
      "source": [
        "#tesing\n",
        "print(matrix_pose([[1,0,0],[0,1,0],[0,0,1]]))"
      ],
      "execution_count": null,
      "outputs": [
        {
          "output_type": "stream",
          "text": [
            "[[1, 0, 0], [0, 1, 0], [0, 0, 1]]\n"
          ],
          "name": "stdout"
        }
      ]
    },
    {
      "cell_type": "markdown",
      "metadata": {
        "id": "MAPWOnOLy4iG"
      },
      "source": [
        "### 4. Using Pandas and Numpy, write a piece of code to combine two series into one. Test your code with:\n",
        "```python\n",
        "np.random.seed(0)\n",
        "series1 = pd.Series(np.arange(10))\n",
        "series2 = pd.Series(np.arange(26))\n",
        "```\n",
        "Do not forget to set the seed, or your answer won’t be reproducible."
      ]
    },
    {
      "cell_type": "code",
      "metadata": {
        "id": "YNboVHJskazy"
      },
      "source": [
        "import pandas as pd\n",
        "import numpy as np"
      ],
      "execution_count": 1,
      "outputs": []
    },
    {
      "cell_type": "code",
      "metadata": {
        "id": "oNbXyKZPkkUl"
      },
      "source": [
        "#code\n",
        "def com_series(s1, s2):\n",
        "  np.random.seed(0)\n",
        "  return pd.concat([s1,s2])"
      ],
      "execution_count": null,
      "outputs": []
    },
    {
      "cell_type": "code",
      "metadata": {
        "colab": {
          "base_uri": "https://localhost:8080/"
        },
        "id": "Q0v4ABj1kkds",
        "outputId": "d186aeb4-861e-4e5b-ecfa-19b89b379e7c"
      },
      "source": [
        "# testing\n",
        "print(com_series(pd.Series(np.arange(10)), pd.Series(np.arange(26))))"
      ],
      "execution_count": null,
      "outputs": [
        {
          "output_type": "stream",
          "text": [
            "0      0\n",
            "1      1\n",
            "2      2\n",
            "3      3\n",
            "4      4\n",
            "5      5\n",
            "6      6\n",
            "7      7\n",
            "8      8\n",
            "9      9\n",
            "0      0\n",
            "1      1\n",
            "2      2\n",
            "3      3\n",
            "4      4\n",
            "5      5\n",
            "6      6\n",
            "7      7\n",
            "8      8\n",
            "9      9\n",
            "10    10\n",
            "11    11\n",
            "12    12\n",
            "13    13\n",
            "14    14\n",
            "15    15\n",
            "16    16\n",
            "17    17\n",
            "18    18\n",
            "19    19\n",
            "20    20\n",
            "21    21\n",
            "22    22\n",
            "23    23\n",
            "24    24\n",
            "25    25\n",
            "dtype: int64\n"
          ],
          "name": "stdout"
        }
      ]
    },
    {
      "cell_type": "markdown",
      "metadata": {
        "id": "astJpfn-zEJ2"
      },
      "source": [
        "### 5. Using pandas, write a piece of code to convert the first character of each element in a series to uppercase. Test your code with:\n",
        "```python\n",
        "series = pd.Series(['nlp', 'will', 'be', 'easy?'])\n",
        "```"
      ]
    },
    {
      "cell_type": "code",
      "metadata": {
        "id": "L9Aim1FymfBp"
      },
      "source": [
        "#code \n",
        "def seriesCap(s):\n",
        "  return s.str.capitalize().to_list()"
      ],
      "execution_count": null,
      "outputs": []
    },
    {
      "cell_type": "code",
      "metadata": {
        "colab": {
          "base_uri": "https://localhost:8080/"
        },
        "id": "zcPgG1w8mhCB",
        "outputId": "69f6a152-7e54-4fe8-bc51-c2b85e2cbcc8"
      },
      "source": [
        "# testing\n",
        "print(seriesCap(pd.Series(['nlp', 'will', 'be', 'easy?'])))"
      ],
      "execution_count": null,
      "outputs": [
        {
          "output_type": "stream",
          "text": [
            "['Nlp', 'Will', 'Be', 'Easy?']\n"
          ],
          "name": "stdout"
        }
      ]
    },
    {
      "cell_type": "markdown",
      "metadata": {
        "id": "uh1FsmiazSSR"
      },
      "source": [
        "### Bonus: Using pandas, write a piece of code to get the frequency of unique values in the entire dataframe (not using built in functions). Test your code with:\n",
        "\n",
        "```python\n",
        "dataFrame = pd.DataFrame(np.random.randint(5, 10, 20).reshape(-1, 4), columns = list('abcd'))\n",
        "```"
      ]
    },
    {
      "cell_type": "code",
      "metadata": {
        "id": "iEh9IVbsypuF"
      },
      "source": [
        "# loop through each values in the column and add a counter to each value and store each value and its count as a dict\""
      ],
      "execution_count": null,
      "outputs": []
    },
    {
      "cell_type": "code",
      "metadata": {
        "id": "I4mu3t5fsT3t"
      },
      "source": [
        "dataFrame = pd.DataFrame(np.random.randint(5, 10, 20).reshape(-1, 4), columns = list('abcd'))\n"
      ],
      "execution_count": 2,
      "outputs": []
    },
    {
      "cell_type": "code",
      "metadata": {
        "id": "ZAVnthRhsXiw",
        "colab": {
          "base_uri": "https://localhost:8080/"
        },
        "outputId": "f9d3c99f-3e77-404c-86a0-4e3fa80cdf35"
      },
      "source": [
        "dl = sum(dataFrame.values.tolist(), [])\n",
        "dl"
      ],
      "execution_count": 9,
      "outputs": [
        {
          "output_type": "execute_result",
          "data": {
            "text/plain": [
              "[7, 7, 5, 6, 9, 7, 6, 8, 9, 9, 9, 7, 6, 5, 6, 6, 9, 6, 7, 7]"
            ]
          },
          "metadata": {
            "tags": []
          },
          "execution_count": 9
        }
      ]
    },
    {
      "cell_type": "code",
      "metadata": {
        "id": "ALaUNG4QMqUZ",
        "outputId": "7112b365-a4b8-4738-9e36-459b0930b9bd",
        "colab": {
          "base_uri": "https://localhost:8080/"
        }
      },
      "source": [
        "freqDict = dict()\n",
        "for i in dl:\n",
        "  if i in freqDict:\n",
        "    freqDict[i] += 1\n",
        "  else:\n",
        "    freqDict[i] = 1\n",
        "print(freqDict)"
      ],
      "execution_count": 10,
      "outputs": [
        {
          "output_type": "stream",
          "text": [
            "{7: 6, 5: 2, 6: 6, 9: 5, 8: 1}\n"
          ],
          "name": "stdout"
        }
      ]
    }
  ]
}