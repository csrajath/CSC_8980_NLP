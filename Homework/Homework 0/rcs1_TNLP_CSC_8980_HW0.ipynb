{
  "nbformat": 4,
  "nbformat_minor": 0,
  "metadata": {
    "colab": {
      "name": "rcs1_TNLP_CSC_8980_HW0",
      "provenance": [],
      "collapsed_sections": []
    },
    "kernelspec": {
      "name": "python3",
      "display_name": "Python 3"
    }
  },
  "cells": [
    {
      "cell_type": "markdown",
      "metadata": {
        "id": "Prn5M8pAnsMT"
      },
      "source": [
        "## Rajath Chikkatur Srinivasa - 002552425"
      ]
    },
    {
      "cell_type": "markdown",
      "metadata": {
        "id": "xfWKgFksrIdI"
      },
      "source": [
        "### 1. Write a function that finds the factorial of a number. Test the function finding the factorial of the number 10."
      ]
    },
    {
      "cell_type": "code",
      "metadata": {
        "id": "1ZhX8HNB21xD"
      },
      "source": [
        "# function\n",
        "def fact_find(num):\n",
        "  if num < 0: \n",
        "      return 'Test for a positive number, negative factorial cannot be permuted'\n",
        "  elif num == 0 or num == 1: \n",
        "      return 1\n",
        "  else:\n",
        "      fact =1\n",
        "      for i in range(1, num+1):\n",
        "          fact *=i\n",
        "      return fact"
      ],
      "execution_count": null,
      "outputs": []
    },
    {
      "cell_type": "code",
      "metadata": {
        "colab": {
          "base_uri": "https://localhost:8080/"
        },
        "id": "bhnSPibfAeiY",
        "outputId": "673d7a8a-b4a6-4570-f71c-4d39bda3043d"
      },
      "source": [
        "# testing\n",
        "print(fact_find(10), end='')"
      ],
      "execution_count": null,
      "outputs": [
        {
          "output_type": "stream",
          "text": [
            "3628800"
          ],
          "name": "stdout"
        }
      ]
    },
    {
      "cell_type": "markdown",
      "metadata": {
        "id": "q0RxZZbkyuOv"
      },
      "source": [
        "### 2. Write a function that determines if a number is a prime number. Test the function with the following numbers: 3 and 1251."
      ]
    },
    {
      "cell_type": "code",
      "metadata": {
        "id": "g8T_6-WsBTD6"
      },
      "source": [
        "def prime_check(num):\n",
        "  if num > 1:\n",
        "    for i in range(2, num):\n",
        "      if (num %i) == 0:\n",
        "        return f'{num} is not prime'\n",
        "    else:\n",
        "      return f'{num} is prime'\n",
        "  else:\n",
        "    return f'{num} not prime'"
      ],
      "execution_count": null,
      "outputs": []
    },
    {
      "cell_type": "code",
      "metadata": {
        "id": "yNDTrILjBTNo",
        "colab": {
          "base_uri": "https://localhost:8080/"
        },
        "outputId": "295129ea-e8c8-4657-a330-9813f7cf1060"
      },
      "source": [
        "# testing\n",
        "print(prime_check(3),'\\n',prime_check(1251),end='',)"
      ],
      "execution_count": null,
      "outputs": [
        {
          "output_type": "stream",
          "text": [
            "3 is prime \n",
            " 1251 is not prime"
          ],
          "name": "stdout"
        }
      ]
    },
    {
      "cell_type": "markdown",
      "metadata": {
        "id": "QJz0ALgcyzVB"
      },
      "source": [
        "### 3. Write a function that transposes a matrix. Test with a 3 x 3 identity matrix."
      ]
    },
    {
      "cell_type": "code",
      "metadata": {
        "id": "AYsOUEbsrTVn"
      },
      "source": [
        "#function\n",
        "def matrix_pose(matrix):\n",
        "  tempMatrix = [[0 for i in range(len(matrix))] for i in range(len(matrix[0]))]\n",
        "  for i in range(len(matrix[0])):\n",
        "    for j in range(len(matrix)):\n",
        "      tempMatrix[i][j] = matrix[j][i]\n",
        "  return tempMatrix"
      ],
      "execution_count": null,
      "outputs": []
    },
    {
      "cell_type": "code",
      "metadata": {
        "colab": {
          "base_uri": "https://localhost:8080/"
        },
        "id": "PzYGxt7PrUlD",
        "outputId": "3aabd071-f8d6-40c5-e08b-247d85fcca14"
      },
      "source": [
        "#tesing\n",
        "print(matrix_pose([[1 ,0,0],[0,1,0], [0,0,1]]))"
      ],
      "execution_count": null,
      "outputs": [
        {
          "output_type": "stream",
          "text": [
            "[[1, 0, 0], [0, 1, 0], [0, 0, 1]]\n"
          ],
          "name": "stdout"
        }
      ]
    },
    {
      "cell_type": "markdown",
      "metadata": {
        "id": "MAPWOnOLy4iG"
      },
      "source": [
        "### 4. Using Pandas and Numpy, write a piece of code to combine two series into one. Test your code with:\n",
        "```python\n",
        "np.random.seed(0)\n",
        "series1 = pd.Series(np.arange(10))\n",
        "series2 = pd.Series(np.arange(26))\n",
        "```\n",
        "Do not forget to set the seed, or your answer won’t be reproducible."
      ]
    },
    {
      "cell_type": "code",
      "metadata": {
        "id": "YNboVHJskazy"
      },
      "source": [
        "import pandas as pd\n",
        "import numpy as np"
      ],
      "execution_count": 37,
      "outputs": []
    },
    {
      "cell_type": "code",
      "metadata": {
        "id": "1pFIJT-zfLBL"
      },
      "source": [
        "# driver code\n",
        "def seriesCombine(s1,s2):\n",
        "  s1len = len(series1)\n",
        "  s2len = len(series2)\n",
        "  if (s1len > s2len):\n",
        "    for i in s2:\n",
        "      s1[i] = s1[i] + s2[i]\n",
        "    return s1\n",
        "  else:\n",
        "    for i in s1:\n",
        "      s2[i] = s1[i] + s2[i]\n",
        "    return s2"
      ],
      "execution_count": 46,
      "outputs": []
    },
    {
      "cell_type": "code",
      "metadata": {
        "id": "7SsqVaDNpCS5",
        "outputId": "68e5332f-56b4-43c9-ae64-62c5db7948eb",
        "colab": {
          "base_uri": "https://localhost:8080/"
        }
      },
      "source": [
        "# testing\n",
        "np.random.seed(0)\n",
        "series1 = pd.Series(np.arange(10))\n",
        "series2 = pd.Series(np.arange(26))\n",
        "print(seriesCombine(series1, series2))"
      ],
      "execution_count": 47,
      "outputs": [
        {
          "output_type": "stream",
          "text": [
            "0      0\n",
            "1      2\n",
            "2      4\n",
            "3      6\n",
            "4      8\n",
            "5     10\n",
            "6     12\n",
            "7     14\n",
            "8     16\n",
            "9     18\n",
            "10    10\n",
            "11    11\n",
            "12    12\n",
            "13    13\n",
            "14    14\n",
            "15    15\n",
            "16    16\n",
            "17    17\n",
            "18    18\n",
            "19    19\n",
            "20    20\n",
            "21    21\n",
            "22    22\n",
            "23    23\n",
            "24    24\n",
            "25    25\n",
            "dtype: int64\n"
          ],
          "name": "stdout"
        }
      ]
    },
    {
      "cell_type": "markdown",
      "metadata": {
        "id": "astJpfn-zEJ2"
      },
      "source": [
        "### 5. Using pandas, write a piece of code to convert the first character of each element in a series to uppercase. Test your code with:\n",
        "```python\n",
        "series = pd.Series(['nlp', 'will', 'be', 'easy?'])\n",
        "```"
      ]
    },
    {
      "cell_type": "code",
      "metadata": {
        "id": "L9Aim1FymfBp"
      },
      "source": [
        "#code \n",
        "def seriesCap(inputWord):\n",
        "    upperAlpha = {'a':'A','b':'B','c':'C','d':'D','e':'E','f':'F','g':'G','h':'H','i':'I','j':'J','k':'K','l':'L','m':'M','n':'N','o':'O','p':'P','q':'Q','r':'R','s':'S','t':'T','u':'U','v':'V','w':'W','x':'X','y':'Y','z:':'Z'}\n",
        "    capitalizedWord = ''\n",
        "    inputWord = list(inputWord)\n",
        "    if inputWord[0] in upperAlpha:\n",
        "        inputWord[0] = upperAlpha[inputWord[0]] \n",
        "        for j in inputWord: \n",
        "            capitalizedWord += j\n",
        "        return capitalizedWord\n",
        "    return 'First letter not an alphabet'"
      ],
      "execution_count": null,
      "outputs": []
    },
    {
      "cell_type": "code",
      "metadata": {
        "colab": {
          "base_uri": "https://localhost:8080/"
        },
        "id": "zcPgG1w8mhCB",
        "outputId": "c858e699-20a2-4b79-eb54-7b3d88d3947f"
      },
      "source": [
        "# testing\n",
        "series = pd.Series(['nlp', 'will', 'be', 'easy?'])\n",
        "for i in series:\n",
        "    print(seriesCap(i))"
      ],
      "execution_count": null,
      "outputs": [
        {
          "output_type": "stream",
          "text": [
            "Nlp\n",
            "Will\n",
            "Be\n",
            "Easy?\n"
          ],
          "name": "stdout"
        }
      ]
    },
    {
      "cell_type": "markdown",
      "metadata": {
        "id": "uh1FsmiazSSR"
      },
      "source": [
        "### Bonus: Using pandas, write a piece of code to get the frequency of unique values in the entire dataframe (not using built in functions). Test your code with:\n",
        "\n",
        "```python\n",
        "dataFrame = pd.DataFrame(np.random.randint(5, 10, 20).reshape(-1, 4), columns = list('abcd'))\n",
        "```"
      ]
    },
    {
      "cell_type": "code",
      "metadata": {
        "id": "I4mu3t5fsT3t",
        "colab": {
          "base_uri": "https://localhost:8080/",
          "height": 204
        },
        "outputId": "bd50ebc5-ac1a-4879-cf52-e624c1cb9335"
      },
      "source": [
        "dataFrame = pd.DataFrame(np.random.randint(5, 10, 20).reshape(-1, 4), columns = list('abcd'))\n",
        "dataFrame"
      ],
      "execution_count": null,
      "outputs": [
        {
          "output_type": "execute_result",
          "data": {
            "text/html": [
              "<div>\n",
              "<style scoped>\n",
              "    .dataframe tbody tr th:only-of-type {\n",
              "        vertical-align: middle;\n",
              "    }\n",
              "\n",
              "    .dataframe tbody tr th {\n",
              "        vertical-align: top;\n",
              "    }\n",
              "\n",
              "    .dataframe thead th {\n",
              "        text-align: right;\n",
              "    }\n",
              "</style>\n",
              "<table border=\"1\" class=\"dataframe\">\n",
              "  <thead>\n",
              "    <tr style=\"text-align: right;\">\n",
              "      <th></th>\n",
              "      <th>a</th>\n",
              "      <th>b</th>\n",
              "      <th>c</th>\n",
              "      <th>d</th>\n",
              "    </tr>\n",
              "  </thead>\n",
              "  <tbody>\n",
              "    <tr>\n",
              "      <th>0</th>\n",
              "      <td>8</td>\n",
              "      <td>7</td>\n",
              "      <td>9</td>\n",
              "      <td>8</td>\n",
              "    </tr>\n",
              "    <tr>\n",
              "      <th>1</th>\n",
              "      <td>7</td>\n",
              "      <td>9</td>\n",
              "      <td>9</td>\n",
              "      <td>5</td>\n",
              "    </tr>\n",
              "    <tr>\n",
              "      <th>2</th>\n",
              "      <td>6</td>\n",
              "      <td>5</td>\n",
              "      <td>9</td>\n",
              "      <td>8</td>\n",
              "    </tr>\n",
              "    <tr>\n",
              "      <th>3</th>\n",
              "      <td>5</td>\n",
              "      <td>8</td>\n",
              "      <td>6</td>\n",
              "      <td>5</td>\n",
              "    </tr>\n",
              "    <tr>\n",
              "      <th>4</th>\n",
              "      <td>8</td>\n",
              "      <td>5</td>\n",
              "      <td>7</td>\n",
              "      <td>7</td>\n",
              "    </tr>\n",
              "  </tbody>\n",
              "</table>\n",
              "</div>"
            ],
            "text/plain": [
              "   a  b  c  d\n",
              "0  8  7  9  8\n",
              "1  7  9  9  5\n",
              "2  6  5  9  8\n",
              "3  5  8  6  5\n",
              "4  8  5  7  7"
            ]
          },
          "metadata": {
            "tags": []
          },
          "execution_count": 6
        }
      ]
    },
    {
      "cell_type": "code",
      "metadata": {
        "id": "JxlTR8p7KWzJ"
      },
      "source": [
        "dl = []\n",
        "for i in dataFrame:\n",
        "  dfSeries = dataFrame[i]\n",
        "  for i in dfSeries:\n",
        "    dl += [i]"
      ],
      "execution_count": null,
      "outputs": []
    },
    {
      "cell_type": "code",
      "metadata": {
        "id": "ALaUNG4QMqUZ"
      },
      "source": [
        "# code\n",
        "def freqCount(df):\n",
        "  freqDict = {}\n",
        "  for i in df:\n",
        "    if i in freqDict:\n",
        "      freqDict[i] += 1\n",
        "    else:\n",
        "      freqDict[i] = 1\n",
        "  return freqDict"
      ],
      "execution_count": null,
      "outputs": []
    },
    {
      "cell_type": "code",
      "metadata": {
        "colab": {
          "base_uri": "https://localhost:8080/"
        },
        "id": "qoQAHkcUb85W",
        "outputId": "bfc0958e-d856-4022-81a6-276a784d5224"
      },
      "source": [
        "# testing\n",
        "print(freqCount(dl))"
      ],
      "execution_count": null,
      "outputs": [
        {
          "output_type": "stream",
          "text": [
            "{8: 5, 7: 4, 6: 2, 5: 5, 9: 4}\n"
          ],
          "name": "stdout"
        }
      ]
    }
  ]
}