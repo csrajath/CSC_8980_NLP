{
  "nbformat": 4,
  "nbformat_minor": 0,
  "metadata": {
    "colab": {
      "name": "rcs1_TNLP_CSC_8980_HW1",
      "provenance": []
    },
    "kernelspec": {
      "name": "python3",
      "display_name": "Python 3"
    }
  },
  "cells": [
    {
      "cell_type": "markdown",
      "metadata": {
        "id": "WTx8h2g1xfg2"
      },
      "source": [
        "## Rajath Chikkatur Srinivasa - 002552425"
      ]
    },
    {
      "cell_type": "code",
      "metadata": {
        "id": "wbWOFg30Ffbn"
      },
      "source": [
        "#imports and initializations\n",
        "import re\n",
        "#importing data science libraries\n",
        "import pandas as pd\n",
        "from sklearn.datasets import fetch_20newsgroups\n",
        "from sklearn.pipeline import make_pipeline\n",
        "#importing metrics\n",
        "from sklearn.metrics import confusion_matrix\n",
        "from sklearn.metrics import accuracy_score\n",
        "from sklearn.metrics import precision_score\n",
        "from sklearn.metrics import recall_score\n",
        "from sklearn.metrics import f1_score\n",
        "from sklearn.metrics import mean_absolute_error\n",
        "from sklearn.metrics import mean_squared_error\n",
        "#importing classifier types\n",
        "from sklearn.ensemble import RandomForestClassifier\n",
        "from sklearn.naive_bayes import MultinomialNB\n",
        "from sklearn.linear_model import LogisticRegression\n",
        "from sklearn.linear_model import Perceptron\n",
        "#import feature extrator type\n",
        "from sklearn.feature_extraction.text import TfidfVectorizer"
      ],
      "execution_count": 264,
      "outputs": []
    },
    {
      "cell_type": "code",
      "metadata": {
        "id": "H2nx8eS6UADo"
      },
      "source": [
        "#reading the input file\n",
        "filetext = open('hw_1-text.txt', 'r').read()"
      ],
      "execution_count": 265,
      "outputs": []
    },
    {
      "cell_type": "markdown",
      "metadata": {
        "id": "c8ICu-Wyxlhk"
      },
      "source": [
        "1. Write a piece of code using a regular expression in Python to count how many times\n",
        "the following name appears: CICERO, this regex needs to be case-sensitive. (10 points)"
      ]
    },
    {
      "cell_type": "code",
      "metadata": {
        "id": "4-veqcWzFZn3",
        "colab": {
          "base_uri": "https://localhost:8080/"
        },
        "outputId": "b970f1e1-cdc2-416f-aaf2-cb56534b9917"
      },
      "source": [
        "# regular expression that finds all 6 character words found in this play.\n",
        "cRE = r\"\\b[CICERO]{6}\\b\"\n",
        "#driverCode that counts the total presence\n",
        "nameCount = re.findall(cRE, filetext, re.M)\n",
        "print(f\"CICERO is present {len(nameCount)} times.\")"
      ],
      "execution_count": 266,
      "outputs": [
        {
          "output_type": "stream",
          "text": [
            "CICERO is present 7 times.\n"
          ],
          "name": "stdout"
        }
      ]
    },
    {
      "cell_type": "markdown",
      "metadata": {
        "id": "03qRTbJYxpv1"
      },
      "source": [
        "2. Write a regular expression in Python that finds all 6 character words found in this play.\n",
        "(10 points)"
      ]
    },
    {
      "cell_type": "code",
      "metadata": {
        "id": "YrloSC6cFaR-",
        "colab": {
          "base_uri": "https://localhost:8080/"
        },
        "outputId": "6ac6eec1-e3ab-4f93-8610-fc5a9599827e"
      },
      "source": [
        "# regular expression that finds all 6 character words found in this play.\n",
        "lRE = r\"\\b[a-zA-Z]{6}\\b\"\n",
        "#driverCode that lists all 6 character words found in this play\n",
        "res = re.findall(lRE, filetext)\n",
        "print('list of all the 6 caracter words found in this play are:\\n',res) \n",
        "print('total number of all the 6 caracter words found in this play is:\\n',len(res)) "
      ],
      "execution_count": 267,
      "outputs": [
        {
          "output_type": "stream",
          "text": [
            "list of all the 6 caracter words found in this play are:\n",
            " ['Julius', 'Caesar', 'street', 'Second', 'answer', 'Second', 'indeed', 'mender', 'Second', 'fellow', 'Second', 'cobble', 'Second', 'meddle', 'indeed', 'danger', 'proper', 'Second', 'myself', 'indeed', 'Caesar', 'brings', 'follow', 'wheels', 'blocks', 'stones', 'things', 'hearts', 'Pompey', 'towers', 'Pompey', 'appear', 'sounds', 'shores', 'attire', 'Pompey', 'houses', 'plague', 'lowest', 'stream', 'shores', 'Exeunt', 'basest', 'vanish', 'tongue', 'images', 'matter', 'images', 'Caesar', 'vulgar', 'Caesar', 'Exeunt', 'public', 'CAESAR', 'ANTONY', 'course', 'PORTIA', 'DECIUS', 'BRUTUS', 'CICERO', 'BRUTUS', 'CAESAR', 'Caesar', 'speaks', 'CAESAR', 'CAESAR', 'course', 'ANTONY', 'Caesar', 'CAESAR', 'Forget', 'elders', 'barren', 'ANTONY', 'Caesar', 'CAESAR', 'Caesar', 'CAESAR', 'CAESAR', 'tongue', 'Caesar', 'Caesar', 'Beware', 'CAESAR', 'BRUTUS', 'beware', 'CAESAR', 'before', 'Fellow', 'throng', 'Caesar', 'CAESAR', 'Beware', 'CAESAR', 'Sennet', 'Exeunt', 'except', 'BRUTUS', 'course', 'BRUTUS', 'BRUTUS', 'spirit', 'Antony', 'hinder', 'Brutus', 'friend', 'BRUTUS', 'Merely', 'myself', 'proper', 'myself', 'number', 'Brutus', 'Brutus', 'breast', 'buried', 'worthy', 'Brutus', 'BRUTUS', 'itself', 'things', 'Brutus', 'hidden', 'shadow', 'Except', 'Caesar', 'Brutus', 'Brutus', 'BRUTUS', 'myself', 'Brutus', 'cannot', 'gentle', 'Brutus', 'common', 'myself', 'BRUTUS', 'people', 'Choose', 'Caesar', 'BRUTUS', 'impart', 'toward', 'honour', 'honour', 'virtue', 'Brutus', 'favour', 'honour', 'cannot', 'single', 'myself', 'Caesar', 'Endure', 'winter', 'shores', 'Caesar', 'Darest', 'yonder', 'follow', 'indeed', 'buffet', 'sinews', 'hearts', 'arrive', 'Caesar', 'Aeneas', 'flames', 'Caesar', 'become', 'Caesar', 'coward', 'colour', 'lustre', 'tongue', 'Romans', 'feeble', 'temper', 'should', 'BRUTUS', 'Caesar', 'narrow', 'graves', 'Brutus', 'Brutus', 'Caesar', 'should', 'Caesar', 'should', 'become', 'Brutus', 'spirit', 'Caesar', 'Caesar', 'shamed', 'bloods', 'indeed', 'enough', 'Brutus', 'easily', 'BRUTUS', 'answer', 'things', 'friend', 'Brutus', 'rather', 'repute', 'struck', 'Brutus', 'BRUTUS', 'Caesar', 'sleeve', 'worthy', 'CAESAR', 'BRUTUS', 'Caesar', 'Cicero', 'ferret', 'matter', 'CAESAR', 'ANTONY', 'Caesar', 'CAESAR', 'headed', 'nights', 'hungry', 'thinks', 'ANTONY', 'Caesar', 'CAESAR', 'fatter', 'liable', 'should', 'Antony', 'Seldom', 'smiles', 'smiles', 'spirit', 'Whiles', 'behold', 'rather', 'always', 'Caesar', 'Sennet', 'Exeunt', 'CAESAR', 'BRUTUS', 'Caesar', 'BRUTUS', 'should', 'people', 'BRUTUS', 'second', 'thrice', 'BRUTUS', 'thrice', 'thrice', 'honest', 'Antony', 'BRUTUS', 'manner', 'gentle', 'hanged', 'manner', 'Antony', 'hooted', 'sweaty', 'breath', 'Caesar', 'almost', 'choked', 'Caesar', 'Caesar', 'swound', 'market', 'foamed', 'BRUTUS', 'Caesar', 'honest', 'Caesar', 'people', 'BRUTUS', 'before', 'common', 'throat', 'rogues', 'hearts', 'Caesar', 'BRUTUS', 'Cicero', 'effect', 'smiled', 'scarfs', 'Caesar', 'images', 'morrow', 'dinner', 'eating', 'expect', 'BRUTUS', 'fellow', 'mettle', 'school', 'digest', 'better', 'BRUTUS', 'morrow', 'please', 'BRUTUS', 'Brutus', 'cannot', 'Caesar', 'Brutus', 'Brutus', 'should', 'humour', 'Caesar', 'Caesar', 'endure', 'street', 'CICERO', 'CICERO', 'Caesar', 'Shakes', 'unfirm', 'Cicero', 'knotty', 'clouds', 'Either', 'strife', 'heaven', 'CICERO', 'common', 'twenty', 'remain', 'glared', 'market', 'things', 'CICERO', 'Indeed', 'things', 'things', 'Caesar', 'morrow', 'morrow', 'CICERO', 'Cicero', 'CICERO', 'honest', 'menace', 'faults', 'breast', 'heaven', 'myself', 'mighty', 'tokens', 'sparks', 'should', 'wonder', 'ghosts', 'beasts', 'things', 'change', 'heaven', 'graves', 'action', 'Caesar', 'Romans', 'govern', 'Indeed', 'Caesar', 'dagger', 'strong', 'defeat', 'beaten', 'strong', 'spirit', 'itself', 'cancel', 'should', 'Caesar', 'tyrant', 'Romans', 'Romans', 'mighty', 'straws', 'serves', 'matter', 'Caesar', 'Before', 'answer', 'griefs', 'minded', 'Romans', 'Pompey', 'favour', 'bloody', 'awhile', 'friend', 'Cimber', 'sights', 'Brutus', 'Brutus', 'window', 'Brutus', 'statue', 'Repair', 'Pompey', 'Decius', 'Brutus', 'Cimber', 'bestow', 'papers', 'repair', 'Pompey', 'Brutus', 'entire', 'yields', 'people', 'hearts', 'appear', 'change', 'virtue', 'Exeunt', 'BRUTUS', 'BRUTUS', 'BRUTUS', 'Lucius', 'cannot', 'Lucius', 'Lucius', 'Lucius', 'LUCIUS', 'LUCIUS', 'BRUTUS', 'Lucius', 'LUCIUS', 'BRUTUS', 'change', 'nature', 'bright', 'brings', 'craves', 'danger', 'Caesar', 'reason', 'common', 'ladder', 'upward', 'upmost', 'ladder', 'clouds', 'ascend', 'Caesar', 'colour', 'LUCIUS', 'LUCIUS', 'closet', 'window', 'letter', 'BRUTUS', 'morrow', 'LUCIUS', 'BRUTUS', 'LUCIUS', 'BRUTUS', 'letter', 'Brutus', 'strike', 'Brutus', 'strike', 'strike', 'follow', 'Brutus', 'LUCIUS', 'LUCIUS', 'wasted', 'within', 'BRUTUS', 'knocks', 'LUCIUS', 'Caesar', 'acting', 'motion', 'Genius', 'mortal', 'little', 'nature', 'LUCIUS', 'LUCIUS', 'desire', 'BRUTUS', 'LUCIUS', 'BRUTUS', 'LUCIUS', 'buried', 'cloaks', 'favour', 'BRUTUS', 'LUCIUS', 'cavern', 'enough', 'visage', 'smiles', 'native', 'Erebus', 'itself', 'enough', 'DECIUS', 'BRUTUS', 'CIMBER', 'morrow', 'Brutus', 'BRUTUS', 'BRUTUS', 'hither', 'Decius', 'Brutus', 'BRUTUS', 'Cimber', 'BRUTUS', 'BRUTUS', 'DECIUS', 'BRUTUS', 'pardon', 'clouds', 'arises', 'season', 'months', 'higher', 'toward', 'Stands', 'BRUTUS', 'BRUTUS', 'enough', 'kindle', 'valour', 'secret', 'Romans', 'palter', 'feeble', 'wrongs', 'causes', 'virtue', 'mettle', 'guilty', 'Cicero', 'strong', 'CIMBER', 'silver', 'voices', 'youths', 'appear', 'buried', 'BRUTUS', 'follow', 'Indeed', 'DECIUS', 'BRUTUS', 'Caesar', 'Decius', 'Antony', 'Caesar', 'Should', 'Caesar', 'shrewd', 'Antony', 'Caesar', 'BRUTUS', 'course', 'bloody', 'Antony', 'Caesar', 'spirit', 'Caesar', 'spirit', 'Caesar', 'spirit', 'Caesar', 'Caesar', 'gentle', 'boldly', 'hounds', 'hearts', 'subtle', 'common', 'Antony', 'Caesar', 'Caesar', 'Caesar', 'BRUTUS', 'Caesar', 'Caesar', 'should', 'sports', 'BRUTUS', 'Caesar', 'dreams', 'terror', 'DECIUS', 'BRUTUS', 'ersway', 'betray', 'humour', 'BRUTUS', 'eighth', 'CIMBER', 'Caesar', 'Pompey', 'wonder', 'BRUTUS', 'hither', 'Brutus', 'Romans', 'BRUTUS', 'actors', 'formal', 'morrow', 'Exeunt', 'BRUTUS', 'Lucius', 'asleep', 'matter', 'brains', 'PORTIA', 'PORTIA', 'Brutus', 'BRUTUS', 'Portia', 'health', 'commit', 'PORTIA', 'Brutus', 'supper', 'Musing', 'across', 'matter', 'stared', 'answer', 'withal', 'Hoping', 'effect', 'humour', 'should', 'Brutus', 'BRUTUS', 'health', 'PORTIA', 'Brutus', 'health', 'BRUTUS', 'Portia', 'PORTIA', 'Brutus', 'Brutus', 'rheumy', 'Brutus', 'within', 'virtue', 'beauty', 'unfold', 'resort', 'BRUTUS', 'gentle', 'Portia', 'PORTIA', 'should', 'gentle', 'Brutus', 'Within', 'Brutus', 'should', 'Portia', 'Brutus', 'harlot', 'BRUTUS', 'PORTIA', 'should', 'secret', 'withal', 'Brutus', 'withal', 'father', 'strong', 'Giving', 'myself', 'BRUTUS', 'Render', 'worthy', 'within', 'knocks', 'Portia', 'awhile', 'PORTIA', 'Lucius', 'knocks', 'LUCIUS', 'LUCIUS', 'BRUTUS', 'morrow', 'feeble', 'tongue', 'BRUTUS', 'Brutus', 'worthy', 'honour', 'BRUTUS', 'Romans', 'before', 'spirit', 'strive', 'things', 'better', 'BRUTUS', 'BRUTUS', 'unfold', 'follow', 'Brutus', 'BRUTUS', 'Follow', 'Exeunt', 'CAESAR', 'CAESAR', 'CAESAR', 'heaven', 'Thrice', 'murder', 'Caesar', 'within', 'CAESAR', 'Caesar', 'CAESAR', 'Caesar', 'things', 'Caesar', 'Caesar', 'fright', 'within', 'things', 'horrid', 'sights', 'graves', 'Fierce', 'fought', 'clouds', 'battle', 'Horses', 'ghosts', 'shriek', 'squeal', 'Caesar', 'things', 'beyond', 'CAESAR', 'mighty', 'Caesar', 'Caesar', 'comets', 'CAESAR', 'before', 'deaths', 'should', 'Seeing', 'within', 'CAESAR', 'Caesar', 'should', 'should', 'Caesar', 'danger', 'Caesar', 'litter', 'Caesar', 'wisdom', 'Antony', 'senate', 'CAESAR', 'Antony', 'humour', 'DECIUS', 'BRUTUS', 'Decius', 'Brutus', 'DECIUS', 'BRUTUS', 'Caesar', 'morrow', 'worthy', 'Caesar', 'senate', 'CAESAR', 'Cannot', 'falser', 'Decius', 'CAESAR', 'Caesar', 'afraid', 'Decius', 'Caesar', 'DECIUS', 'BRUTUS', 'mighty', 'Caesar', 'CAESAR', 'enough', 'senate', 'dreamt', 'statua', 'spouts', 'Romans', 'DECIUS', 'BRUTUS', 'vision', 'statue', 'Romans', 'bathed', 'stains', 'relics', 'CAESAR', 'DECIUS', 'BRUTUS', 'senate', 'mighty', 'Caesar', 'change', 'render', 'senate', 'Caesar', 'better', 'dreams', 'Caesar', 'Caesar', 'afraid', 'Pardon', 'Caesar', 'reason', 'liable', 'CAESAR', 'BRUTUS', 'morrow', 'Caesar', 'CAESAR', 'Brutus', 'morrow', 'Caesar', 'BRUTUS', 'Caesar', 'CAESAR', 'ANTONY', 'Antony', 'revels', 'nights', 'morrow', 'Antony', 'ANTONY', 'Caesar', 'CAESAR', 'within', 'waited', 'Caesar', 'CAESAR', 'BRUTUS', 'Caesar', 'Brutus', 'yearns', 'Exeunt', 'street', 'Caesar', 'beware', 'Brutus', 'Cimber', 'Decius', 'Brutus', 'Caesar', 'mighty', 'defend', 'Caesar', 'suitor', 'virtue', 'cannot', 'Caesar', 'street', 'before', 'BRUTUS', 'PORTIA', 'LUCIUS', 'PORTIA', 'senate', 'answer', 'LUCIUS', 'errand', 'PORTIA', 'strong', 'tongue', 'LUCIUS', 'should', 'return', 'PORTIA', 'sickly', 'Caesar', 'LUCIUS', 'PORTIA', 'listen', 'rumour', 'brings', 'LUCIUS', 'PORTIA', 'hither', 'fellow', 'PORTIA', 'PORTIA', 'Caesar', 'PORTIA', 'Caesar', 'please', 'Caesar', 'Caesar', 'PORTIA', 'chance', 'morrow', 'street', 'narrow', 'throng', 'Caesar', 'common', 'feeble', 'almost', 'Caesar', 'PORTIA', 'Brutus', 'Brutus', 'Caesar', 'Lucius', 'Exeunt', 'Before', 'Senate', 'people', 'CAESAR', 'BRUTUS', 'DECIUS', 'BRUTUS', 'CIMBER', 'ANTONY', 'others', 'CAESAR', 'Caesar', 'Caesar', 'DECIUS', 'BRUTUS', 'desire', 'erread', 'humble', 'Caesar', 'Caesar', 'nearer', 'Caesar', 'CAESAR', 'served', 'Caesar', 'CAESAR', 'fellow', 'Sirrah', 'street', 'CAESAR', 'Senate', 'thrive', 'CAESAR', 'BRUTUS', 'thrive', 'BRUTUS', 'Caesar', 'sudden', 'Brutus', 'Caesar', 'myself', 'BRUTUS', 'speaks', 'smiles', 'Caesar', 'change', 'Brutus', 'Antony', 'Exeunt', 'ANTONY', 'DECIUS', 'BRUTUS', 'Cimber', 'prefer', 'Caesar', 'BRUTUS', 'second', 'CAESAR', 'Caesar', 'senate', 'CIMBER', 'mighty', 'Caesar', 'Cimber', 'throws', 'before', 'humble', 'CAESAR', 'Cimber', 'decree', 'Caesar', 'decree', 'Caesar', 'CIMBER', 'worthy', 'Caesar', 'banish', 'BRUTUS', 'Caesar', 'Cimber', 'repeal', 'CAESAR', 'Brutus', 'Pardon', 'Caesar', 'Caesar', 'pardon', 'Cimber', 'fellow', 'sparks', 'number', 'motion', 'little', 'Cimber', 'should', 'banish', 'remain', 'Caesar', 'CAESAR', 'DECIUS', 'BRUTUS', 'Caesar', 'CAESAR', 'Brutus', 'BRUTUS', 'CAESAR', 'CAESAR', 'Caesar', 'common', 'BRUTUS', 'People', 'pulpit', 'Brutus', 'DECIUS', 'BRUTUS', 'BRUTUS', 'mutiny', 'CIMBER', 'friend', 'Caesar', 'Should', 'chance', 'BRUTUS', 'person', 'people', 'should', 'BRUTUS', 'Antony', 'amazed', 'BRUTUS', 'twenty', 'BRUTUS', 'Caesar', 'Romans', 'Caesar', 'elbows', 'swords', 'market', 'waving', 'states', 'unborn', 'BRUTUS', 'Caesar', 'Pompey', 'DECIUS', 'BRUTUS', 'Brutus', 'hearts', 'BRUTUS', 'friend', 'Antony', 'Brutus', 'master', 'Antony', 'Brutus', 'honest', 'Caesar', 'mighty', 'loving', 'Brutus', 'honour', 'Caesar', 'honour', 'Brutus', 'Antony', 'safely', 'Caesar', 'Antony', 'Caesar', 'Brutus', 'living', 'follow', 'Brutus', 'untrod', 'master', 'Antony', 'BRUTUS', 'master', 'please', 'honour', 'Depart', 'BRUTUS', 'friend', 'BRUTUS', 'Antony', 'ANTONY', 'Antony', 'ANTONY', 'mighty', 'Caesar', 'spoils', 'Shrunk', 'little', 'intend', 'myself', 'Caesar', 'swords', 'whilst', 'Fulfil', 'myself', 'please', 'Caesar', 'choice', 'master', 'BRUTUS', 'Antony', 'Though', 'appear', 'bloody', 'hearts', 'drives', 'Caesar', 'swords', 'leaden', 'points', 'Antony', 'malice', 'hearts', 'temper', 'strong', 'BRUTUS', 'beside', 'Caesar', 'struck', 'ANTONY', 'wisdom', 'render', 'bloody', 'Marcus', 'Brutus', 'Decius', 'Brutus', 'Though', 'credit', 'stands', 'ground', 'Either', 'coward', 'Caesar', 'spirit', 'grieve', 'dearer', 'making', 'bloody', 'wounds', 'stream', 'become', 'better', 'Pardon', 'Julius', 'forest', 'indeed', 'Antony', 'ANTONY', 'Pardon', 'Caesar', 'friend', 'Caesar', 'number', 'depend', 'ANTONY', 'indeed', 'Caesar', 'Caesar', 'BRUTUS', 'savage', 'regard', 'Antony', 'Caesar', 'should', 'ANTONY', 'suitor', 'market', 'pulpit', 'friend', 'BRUTUS', 'Antony', 'Brutus', 'BRUTUS', 'Antony', 'people', 'BRUTUS', 'pardon', 'myself', 'pulpit', 'reason', 'Caesar', 'Antony', 'speaks', 'Caesar', 'lawful', 'BRUTUS', 'Antony', 'Caesar', 'speech', 'devise', 'Caesar', 'pulpit', 'speech', 'ANTONY', 'desire', 'BRUTUS', 'follow', 'Exeunt', 'ANTONY', 'ANTONY', 'pardon', 'gentle', 'costly', 'wounds', 'mouths', 'tongue', 'fierce', 'strife', 'cumber', 'behold', 'choked', 'custom', 'Caesar', 'spirit', 'burial', 'Caesar', 'Antony', 'ANTONY', 'Caesar', 'coming', 'Caesar', 'Seeing', 'ANTONY', 'Seeing', 'sorrow', 'master', 'coming', 'within', 'ANTONY', 'safety', 'awhile', 'market', 'people', 'bloody', 'things', 'Exeunt', 'CAESAR', 'BRUTUS', 'throng', 'BRUTUS', 'follow', 'street', 'follow', 'public', 'Caesar', 'Brutus', 'Second', 'BRUTUS', 'pulpit', 'Brutus', 'BRUTUS', 'Romans', 'lovers', 'silent', 'honour', 'honour', 'wisdom', 'senses', 'better', 'friend', 'Caesar', 'Brutus', 'Caesar', 'friend', 'demand', 'Brutus', 'Caesar', 'answer', 'Caesar', 'rather', 'Caesar', 'living', 'slaves', 'Caesar', 'Caesar', 'honour', 'honour', 'valour', 'Brutus', 'BRUTUS', 'Caesar', 'Brutus', 'worthy', 'ANTONY', 'others', 'CAESAR', 'Antony', 'though', 'depart', 'dagger', 'myself', 'please', 'Brutus', 'Second', 'statue', 'Caesar', 'Fourth', 'Caesar', 'better', 'Brutus', 'shouts', 'BRUTUS', 'Second', 'Brutus', 'speaks', 'BRUTUS', 'depart', 'Antony', 'Caesar', 'corpse', 'speech', 'Caesar', 'Antony', 'depart', 'Antony', 'Antony', 'public', 'Antony', 'ANTONY', 'Brutus', 'pulpit', 'Fourth', 'Brutus', 'Brutus', 'Fourth', 'Brutus', 'Caesar', 'tyrant', 'Second', 'Antony', 'ANTONY', 'gentle', 'Romans', 'ANTONY', 'Romans', 'Caesar', 'praise', 'Caesar', 'Brutus', 'Caesar', 'Caesar', 'answer', 'Brutus', 'Brutus', 'Caesar', 'friend', 'Brutus', 'Brutus', 'Caesar', 'Caesar', 'should', 'Brutus', 'Brutus', 'thrice', 'kingly', 'thrice', 'refuse', 'Brutus', 'Brutus', 'beasts', 'reason', 'coffin', 'Caesar', 'reason', 'Second', 'matter', 'Caesar', 'Fourth', 'Second', 'nobler', 'Antony', 'Fourth', 'begins', 'ANTONY', 'Caesar', 'hearts', 'mutiny', 'should', 'Brutus', 'rather', 'choose', 'myself', 'Caesar', 'closet', 'pardon', 'Caesar', 'wounds', 'sacred', 'memory', 'within', 'legacy', 'Fourth', 'Antony', 'Caesar', 'ANTONY', 'gentle', 'Caesar', 'stones', 'Caesar', 'should', 'Fourth', 'Antony', 'Caesar', 'ANTONY', 'awhile', 'ershot', 'myself', 'Caesar', 'Fourth', 'Second', 'ANTONY', 'compel', 'corpse', 'Caesar', 'Second', 'ANTONY', 'Fourth', 'hearse', 'Second', 'Antony', 'Antony', 'ANTONY', 'ANTONY', 'mantle', 'Caesar', 'summer', 'Nervii', 'dagger', 'Brutus', 'cursed', 'Caesar', 'follow', 'Brutus', 'Brutus', 'Caesar', 'dearly', 'Caesar', 'Caesar', 'strong', 'mighty', 'mantle', 'Pompey', 'statua', 'Caesar', 'Whilst', 'bloody', 'behold', 'Caesar', 'Second', 'Caesar', 'Fourth', 'bloody', 'Second', 'ANTONY', 'Antony', 'Second', 'follow', 'ANTONY', 'sudden', 'mutiny', 'griefs', 'answer', 'hearts', 'orator', 'Brutus', 'friend', 'public', 'Action', 'speech', 'Caesar', 'wounds', 'mouths', 'Brutus', 'Brutus', 'Antony', 'Antony', 'ruffle', 'tongue', 'Caesar', 'should', 'stones', 'mutiny', 'mutiny', 'Brutus', 'ANTONY', 'Antony', 'Antony', 'ANTONY', 'Caesar', 'forgot', 'ANTONY', 'Caesar', 'Second', 'Caesar', 'Caesar', 'ANTONY', 'ANTONY', 'common', 'abroad', 'Caesar', 'brands', 'houses', 'Second', 'Fourth', 'Exeunt', 'ANTONY', 'course', 'fellow', 'ANTONY', 'Caesar', 'ANTONY', 'Brutus', 'madmen', 'ANTONY', 'Belike', 'notice', 'people', 'Exeunt', 'street', 'dreamt', 'Caesar', 'things', 'charge', 'wander', 'Second', 'Fourth', 'Second', 'Answer', 'Fourth', 'wisely', 'answer', 'wisely', 'wisely', 'Second', 'Caesar', 'friend', 'friend', 'Second', 'matter', 'Fourth', 'pieces', 'Fourth', 'verses', 'verses', 'Fourth', 'matter', 'brands', 'brands', 'Brutus', 'Decius', 'Exeunt', 'ANTONY', 'seated', 'ANTONY', 'Antony', 'sister', 'Antony', 'ANTONY', 'Caesar', 'hither', 'charge', 'ANTONY', 'slight', 'should', 'should', 'ANTONY', 'though', 'divers', 'Either', 'driven', 'having', 'ANTONY', 'motion', 'govern', 'spirit', 'taught', 'barren', 'fellow', 'staled', 'Listen', 'things', 'Brutus', 'powers', 'covert', 'perils', 'surest', 'hearts', 'Exeunt', 'Sardis', 'Before', 'BRUTUS', 'BRUTUS', 'LUCIUS', 'BRUTUS', 'BRUTUS', 'master', 'BRUTUS', 'greets', 'master', 'change', 'worthy', 'Things', 'undone', 'master', 'appear', 'regard', 'honour', 'BRUTUS', 'enough', 'BRUTUS', 'friend', 'begins', 'sicken', 'tricks', 'simple', 'hollow', 'horses', 'mettle', 'should', 'endure', 'bloody', 'crests', 'Sardis', 'BRUTUS', 'within', 'gently', 'powers', 'BRUTUS', 'Second', 'BRUTUS', 'should', 'Brutus', 'wrongs', 'BRUTUS', 'griefs', 'softly', 'Before', 'armies', 'should', 'griefs', 'little', 'ground', 'BRUTUS', 'Lucius', 'Exeunt', 'Brutus', 'BRUTUS', 'appear', 'Lucius', 'taking', 'bribes', 'BRUTUS', 'should', 'BRUTUS', 'Brutus', 'speech', 'BRUTUS', 'BRUTUS', 'Julius', 'struck', 'bribes', 'mighty', 'rather', 'Brutus', 'endure', 'forget', 'BRUTUS', 'BRUTUS', 'forget', 'myself', 'health', 'BRUTUS', 'slight', 'BRUTUS', 'choler', 'madman', 'stares', 'endure', 'BRUTUS', 'slaves', 'crouch', 'humour', 'digest', 'spleen', 'Though', 'BRUTUS', 'better', 'appear', 'please', 'Brutus', 'better', 'better', 'BRUTUS', 'Caesar', 'BRUTUS', 'BRUTUS', 'BRUTUS', 'BRUTUS', 'should', 'terror', 'strong', 'denied', 'heaven', 'rather', 'denied', 'Should', 'answer', 'Marcus', 'Brutus', 'rascal', 'pieces', 'denied', 'BRUTUS', 'answer', 'Brutus', 'friend', 'should', 'friend', 'Brutus', 'BRUTUS', 'BRUTUS', 'faults', 'faults', 'BRUTUS', 'though', 'appear', 'Antony', 'aweary', 'braved', 'Cheque', 'faults', 'spirit', 'dagger', 'breast', 'within', 'Dearer', 'Plutus', 'richer', 'denied', 'Strike', 'Caesar', 'better', 'BRUTUS', 'dagger', 'humour', 'Brutus', 'temper', 'vexeth', 'BRUTUS', 'temper', 'BRUTUS', 'Brutus', 'BRUTUS', 'matter', 'enough', 'humour', 'mother', 'BRUTUS', 'Brutus', 'mother', 'chides', 'Within', 'grudge', 'Within', 'Within', 'LUCIUS', 'matter', 'should', 'vilely', 'BRUTUS', 'sirrah', 'fellow', 'Brutus', 'BRUTUS', 'humour', 'should', 'BRUTUS', 'Exeunt', 'BRUTUS', 'Lucius', 'LUCIUS', 'BRUTUS', 'griefs', 'BRUTUS', 'sorrow', 'better', 'Portia', 'Portia', 'BRUTUS', 'scaped', 'BRUTUS', 'Antony', 'strong', 'absent', 'BRUTUS', 'LUCIUS', 'BRUTUS', 'pledge', 'Lucius', 'cannot', 'Brutus', 'BRUTUS', 'LUCIUS', 'Portia', 'BRUTUS', 'Antony', 'mighty', 'toward', 'Myself', 'BRUTUS', 'Antony', 'BRUTUS', 'Cicero', 'Cicero', 'Cicero', 'BRUTUS', 'BRUTUS', 'BRUTUS', 'BRUTUS', 'manner', 'BRUTUS', 'Portia', 'endure', 'losses', 'should', 'endure', 'nature', 'BRUTUS', 'BRUTUS', 'reason', 'better', 'whilst', 'BRUTUS', 'better', 'people', 'ground', 'forced', 'fuller', 'number', 'people', 'BRUTUS', 'pardon', 'beside', 'utmost', 'height', 'voyage', 'afloat', 'serves', 'BRUTUS', 'nature', 'little', 'morrow', 'BRUTUS', 'Lucius', 'LUCIUS', 'LUCIUS', 'repose', 'Brutus', 'BRUTUS', 'BRUTUS', 'Brutus', 'BRUTUS', 'Exeunt', 'BRUTUS', 'LUCIUS', 'LUCIUS', 'BRUTUS', 'LUCIUS', 'BRUTUS', 'please', 'BRUTUS', 'Lucius', 'sought', 'pocket', 'LUCIUS', 'BRUTUS', 'awhile', 'strain', 'LUCIUS', 'please', 'BRUTUS', 'LUCIUS', 'BRUTUS', 'should', 'bloods', 'LUCIUS', 'BRUTUS', 'sleepy', 'leaden', 'Gentle', 'CAESAR', 'shapes', 'makest', 'spirit', 'Brutus', 'BRUTUS', 'comest', 'BRUTUS', 'BRUTUS', 'spirit', 'Lucius', 'LUCIUS', 'BRUTUS', 'thinks', 'Lucius', 'LUCIUS', 'BRUTUS', 'Lucius', 'LUCIUS', 'BRUTUS', 'LUCIUS', 'BRUTUS', 'Lucius', 'Sirrah', 'Fellow', 'BRUTUS', 'BRUTUS', 'BRUTUS', 'powers', 'before', 'follow', 'Exeunt', 'plains', 'ANTONY', 'Antony', 'proves', 'before', 'demand', 'ANTONY', 'bosoms', 'places', 'fasten', 'bloody', 'battle', 'ANTONY', 'battle', 'softly', 'ANTONY', 'BRUTUS', 'others', 'BRUTUS', 'parley', 'Antony', 'battle', 'ANTONY', 'Caesar', 'answer', 'charge', 'signal', 'BRUTUS', 'before', 'better', 'BRUTUS', 'better', 'ANTONY', 'Brutus', 'Caesar', 'Crying', 'Caesar', 'Antony', 'ANTONY', 'BRUTUS', 'Antony', 'wisely', 'threat', 'before', 'ANTONY', 'Caesar', 'hounds', 'Caesar', 'Whilst', 'damned', 'behind', 'Struck', 'Caesar', 'Brutus', 'tongue', 'redder', 'Caesar', 'thirty', 'wounds', 'Caesar', 'BRUTUS', 'Caesar', 'Unless', 'Brutus', 'BRUTUS', 'strain', 'honour', 'masker', 'ANTONY', 'Antony', 'Exeunt', 'ANTONY', 'billow', 'hazard', 'BRUTUS', 'BRUTUS', 'Pompey', 'battle', 'strong', 'change', 'partly', 'credit', 'things', 'Coming', 'Sardis', 'former', 'ensign', 'mighty', 'eagles', 'steads', 'ravens', 'sickly', 'canopy', 'partly', 'spirit', 'perils', 'BRUTUS', 'Brutus', 'Lovers', 'reason', 'befall', 'battle', 'BRUTUS', 'arming', 'myself', 'powers', 'govern', 'battle', 'BRUTUS', 'Brutus', 'Brutus', 'indeed', 'BRUTUS', 'Exeunt', 'battle', 'Alarum', 'BRUTUS', 'BRUTUS', 'alarum', 'sudden', 'Exeunt', 'Myself', 'ensign', 'coward', 'Brutus', 'having', 'Whilst', 'Antony', 'Antony', 'enough', 'lovest', 'yonder', 'troops', 'troops', 'friend', 'higher', 'regard', 'notest', 'Sirrah', 'almost', 'lights', 'behold', 'coward', 'friend', 'before', 'hither', 'sirrah', 'saving', 'Caesar', 'bowels', 'search', 'answer', 'Caesar', 'change', 'Brutus', 'Antony', 'ground', 'living', 'Clouds', 'things', 'comest', 'mother', 'whilst', 'Brutus', 'report', 'Brutus', 'wreath', 'shouts', 'Brutus', 'Brutus', 'Alarum', 'BRUTUS', 'STRATO', 'BRUTUS', 'yonder', 'BRUTUS', 'upward', 'BRUTUS', 'Julius', 'Caesar', 'mighty', 'spirit', 'abroad', 'swords', 'proper', 'BRUTUS', 'Romans', 'living', 'Romans', 'Should', 'fellow', 'Thasos', 'Romans', 'second', 'Exeunt', 'Alarum', 'armies', 'BRUTUS', 'others', 'BRUTUS', 'Marcus', 'friend', 'Marcus', 'BRUTUS', 'Brutus', 'Marcus', 'Brutus', 'Brutus', 'friend', 'Brutus', 'honour', 'Brutus', 'honour', 'Second', 'Antony', 'Brutus', 'ANTONY', 'Brutus', 'Brutus', 'ANTONY', 'Antony', 'Brutus', 'enough', 'assure', 'Brutus', 'defend', 'Brutus', 'ANTONY', 'Brutus', 'friend', 'assure', 'rather', 'Brutus', 'Exeunt', 'BRUTUS', 'CLITUS', 'STRATO', 'BRUTUS', 'CLITUS', 'BRUTUS', 'Clitus', 'Clitus', 'CLITUS', 'BRUTUS', 'CLITUS', 'rather', 'myself', 'BRUTUS', 'CLITUS', 'Clitus', 'CLITUS', 'Brutus', 'Clitus', 'CLITUS', 'vessel', 'BRUTUS', 'hither', 'BRUTUS', 'Caesar', 'appear', 'Sardis', 'fields', 'BRUTUS', 'worthy', 'school', 'whilst', 'office', 'friend', 'Alarum', 'CLITUS', 'BRUTUS', 'Strato', 'asleep', 'Strato', 'losing', 'Antony', 'attain', 'Brutus', 'tongue', 'almost', 'labour', 'attain', 'Alarum', 'within', 'CLITUS', 'BRUTUS', 'follow', 'Exeunt', 'CLITUS', 'Strato', 'fellow', 'smatch', 'honour', 'Strato', 'STRATO', 'BRUTUS', 'Strato', 'Caesar', 'Alarum', 'ANTONY', 'master', 'Strato', 'master', 'STRATO', 'Brutus', 'honour', 'Brutus', 'should', 'Brutus', 'proved', 'saying', 'served', 'Brutus', 'Fellow', 'bestow', 'STRATO', 'prefer', 'master', 'Strato', 'STRATO', 'follow', 'latest', 'master', 'ANTONY', 'Caesar', 'honest', 'common', 'gentle', 'Nature', 'virtue', 'burial', 'Within', 'Exeunt']\n",
            "total number of all the 6 caracter words found in this play is:\n",
            " 2295\n"
          ],
          "name": "stdout"
        }
      ]
    },
    {
      "cell_type": "markdown",
      "metadata": {
        "id": "YVC4qSgNxxqe"
      },
      "source": [
        "3. Write a piece of code that uses a regular expression in Python to count how many\n",
        "words are capitalized in the first letter only. (20 points)"
      ]
    },
    {
      "cell_type": "code",
      "metadata": {
        "id": "ZNv16Wz-Faud",
        "colab": {
          "base_uri": "https://localhost:8080/"
        },
        "outputId": "2bb6c49d-bad6-4664-cbe1-f5f85369e613"
      },
      "source": [
        "# regular expression that identifies the pattern for all first letter only capitalized words\n",
        "firstCap = r'\\b[A-Z][a-z]*\\b'\n",
        "#driverCode that counts the same\n",
        "res = re.findall(firstCap, filetext, re.M)\n",
        "print(f'total number of first letter only capitalized words are: {len(res)}')"
      ],
      "execution_count": 268,
      "outputs": [
        {
          "output_type": "stream",
          "text": [
            "total number of first letter only capitalized words are: 4376\n"
          ],
          "name": "stdout"
        }
      ]
    },
    {
      "cell_type": "markdown",
      "metadata": {
        "id": "hMMvZQTXx3Cu"
      },
      "source": [
        "4. Write a regular expression using groups in Python that extracts all phrases that have\n",
        "“son of ” and extract/output the answer in a case-insensitive way. For example, for the\n",
        "following “I am the son of earth”, should find “son of earth” and extract/output “earth”.\n",
        "(20 points)"
      ]
    },
    {
      "cell_type": "code",
      "metadata": {
        "id": "CHNCJLGJFbuk",
        "colab": {
          "base_uri": "https://localhost:8080/"
        },
        "outputId": "638b9459-2d09-4259-e81e-bc71da159b50"
      },
      "source": [
        "pRE = r'\\b(son of (\\w+))\\b'\n",
        "extract = re.findall(pRE, filetext, re.IGNORECASE)\n",
        "print(extract)\n",
        "print()\n",
        "for i in extract:\n",
        "  print(\"Son of Phrase is:\", i[0], \";\",\"Extract phrase is:\", i[1])"
      ],
      "execution_count": 269,
      "outputs": [
        {
          "output_type": "stream",
          "text": [
            "[('son of Rome', 'Rome'), ('son of Caesar', 'Caesar'), ('son of Marcus', 'Marcus'), ('son of Marcus', 'Marcus')]\n",
            "\n",
            "Son of Phrase is: son of Rome ; Extract phrase is: Rome\n",
            "Son of Phrase is: son of Caesar ; Extract phrase is: Caesar\n",
            "Son of Phrase is: son of Marcus ; Extract phrase is: Marcus\n",
            "Son of Phrase is: son of Marcus ; Extract phrase is: Marcus\n"
          ],
          "name": "stdout"
        }
      ]
    },
    {
      "cell_type": "markdown",
      "metadata": {
        "id": "zK7KOySEx86u"
      },
      "source": [
        "5. Plays are divided in acts, write a regular expression using groups in Python that\n",
        "extracts the number of each act found in this play in a case-sensitive way. (20 points)"
      ]
    },
    {
      "cell_type": "code",
      "metadata": {
        "id": "1A9lOzWCFcPC",
        "colab": {
          "base_uri": "https://localhost:8080/"
        },
        "outputId": "339c11ae-4a00-4d67-8b48-7cd403d60fff"
      },
      "source": [
        "nRE = r\"\\b(ACT (.+))\\b\"\n",
        "reGroups = re.findall(nRE, filetext, re.M)\n",
        "print(reGroups)\n",
        "print('total number of acts present in the play is:', len(reGroups))\n",
        "print(\"They are:\")\n",
        "for i in reGroups:\n",
        "  print(i[1])"
      ],
      "execution_count": 270,
      "outputs": [
        {
          "output_type": "stream",
          "text": [
            "[('ACT I', 'I'), ('ACT II', 'II'), ('ACT III', 'III'), ('ACT IV', 'IV'), ('ACT V', 'V')]\n",
            "total number of acts present in the play is: 5\n",
            "They are:\n",
            "I\n",
            "II\n",
            "III\n",
            "IV\n",
            "V\n"
          ],
          "name": "stdout"
        }
      ]
    },
    {
      "cell_type": "markdown",
      "metadata": {
        "id": "JzhRJACfx_Vf"
      },
      "source": [
        "6. Write a Python function that takes the file as an input and outputs how many lines end\n",
        "with: ? , that is a question mark at the end of the line. This function needs to use a\n",
        "regular expression. (20 points)"
      ]
    },
    {
      "cell_type": "code",
      "metadata": {
        "id": "5ly0xvcdFczu"
      },
      "source": [
        "#driverCode\n",
        "def endLine(fileinput):\n",
        "  qRE = r\".*\\?$\"\n",
        "  endRE = re.findall(qRE, filetext, re.M)\n",
        "  return f\"{len(endRE)} lines end with '?'\""
      ],
      "execution_count": 271,
      "outputs": []
    },
    {
      "cell_type": "code",
      "metadata": {
        "colab": {
          "base_uri": "https://localhost:8080/"
        },
        "id": "kcGTL2R_M-Vi",
        "outputId": "a96552ab-05ca-4c49-9642-a9002fe05133"
      },
      "source": [
        "# testing\n",
        "print(endLine('hw_1-text.txt'))"
      ],
      "execution_count": 272,
      "outputs": [
        {
          "output_type": "stream",
          "text": [
            "215 lines end with '?'\n"
          ],
          "name": "stdout"
        }
      ]
    },
    {
      "cell_type": "markdown",
      "metadata": {
        "id": "AuEMA-pAyFo7"
      },
      "source": [
        "7. Using the code from Class 04, train a Random Forest classification model for the same\n",
        "two newsgroups, generate the confusion matrix, and all the same performance metrics.\n",
        "(50 points)"
      ]
    },
    {
      "cell_type": "code",
      "metadata": {
        "id": "T9W-Dz4UFdU8"
      },
      "source": [
        "#getting news groups\n",
        "data = fetch_20newsgroups()"
      ],
      "execution_count": 273,
      "outputs": []
    },
    {
      "cell_type": "code",
      "metadata": {
        "id": "9M8wdPg7WczY"
      },
      "source": [
        "# creating training and test sets\n",
        "categories = ['rec.autos','comp.graphics']\n",
        "train = fetch_20newsgroups(subset='train', categories=categories)\n",
        "test = fetch_20newsgroups(subset='test', categories=categories)"
      ],
      "execution_count": 274,
      "outputs": []
    },
    {
      "cell_type": "code",
      "metadata": {
        "id": "dkKDn71_WfRL"
      },
      "source": [
        "#applying randomforestclassifier\n",
        "model = make_pipeline(TfidfVectorizer(), RandomForestClassifier())\n",
        "model.fit(train.data, train.target)\n",
        "labels = model.predict(test.data)"
      ],
      "execution_count": 275,
      "outputs": []
    },
    {
      "cell_type": "code",
      "metadata": {
        "colab": {
          "base_uri": "https://localhost:8080/"
        },
        "id": "JgyQZhWpWv7q",
        "outputId": "b7dcd314-ec52-4065-e9c8-50a97ab8c415"
      },
      "source": [
        "#generating confusion matrix\n",
        "mat = confusion_matrix(test.target, labels)\n",
        "print('The confusion matrix is:\\n',mat)"
      ],
      "execution_count": 276,
      "outputs": [
        {
          "output_type": "stream",
          "text": [
            "The confusion matrix is:\n",
            " [[366  23]\n",
            " [ 41 355]]\n"
          ],
          "name": "stdout"
        }
      ]
    },
    {
      "cell_type": "code",
      "metadata": {
        "colab": {
          "base_uri": "https://localhost:8080/"
        },
        "id": "zCJgaQ4ZXuOU",
        "outputId": "bb9cb8bd-86f5-4455-972c-9cc36d1e153d"
      },
      "source": [
        "# printing performance metrics\n",
        "print('Accuracy:',accuracy_score(test.target,labels))\n",
        "print('Precision:', precision_score(test.target,labels))\n",
        "print('Recall:', recall_score(test.target,labels))\n",
        "print('F1 Score:', f1_score(labels, test.target, average='macro'))\n",
        "print('Mean Absolute Error:', mean_absolute_error(test.target,labels))\n",
        "print('Mean Squared Error:', mean_squared_error(test.target, labels))  \n",
        "print('Root Mean Squared Error:', mean_squared_error(test.target, labels, squared=False))"
      ],
      "execution_count": 277,
      "outputs": [
        {
          "output_type": "stream",
          "text": [
            "Accuracy: 0.9184713375796179\n",
            "Precision: 0.9391534391534392\n",
            "Recall: 0.8964646464646465\n",
            "F1 Score: 0.9184553257242285\n",
            "Mean Absolute Error: 0.08152866242038216\n",
            "Mean Squared Error: 0.08152866242038216\n",
            "Root Mean Squared Error: 0.28553224409929984\n"
          ],
          "name": "stdout"
        }
      ]
    },
    {
      "cell_type": "markdown",
      "metadata": {
        "id": "xclYP2ufyLjr"
      },
      "source": [
        "Bonus (15 points): Using the code from Class 04. Write a function to find the best\n",
        "performing model for the TF-IDF vectorization. The requirements for this are: 1) Pass all\n",
        "metrics for each model in a single dataframe (each row has a metric value, each column\n",
        "is a model type). 2) Make the decision of the best model by counting which column has\n",
        "the highest F1-score and accuracy."
      ]
    },
    {
      "cell_type": "code",
      "metadata": {
        "id": "VZLCLuU186sC"
      },
      "source": [
        "# models selected for answering bonus question\n",
        "allmodels = [Perceptron(), MultinomialNB(), LogisticRegression()]\n",
        "# function to to find the best performing model for the TF-IDF vectorization\n",
        "def function(allmodels):\n",
        "  pmetrics = dict()\n",
        "  for i in allmodels:\n",
        "    # training all the three choosen models\n",
        "    model = make_pipeline(TfidfVectorizer(), i)\n",
        "    model.fit(train.data, train.target)\n",
        "    labels = model.predict(test.data)\n",
        "    #performance metrics\n",
        "    acc = accuracy_score(test.target,labels)\n",
        "    pre = precision_score(test.target,labels)\n",
        "    rec = recall_score(test.target,labels)\n",
        "    f1 = f1_score(labels, test.target, average='macro')\n",
        "    abserror = mean_absolute_error(test.target,labels)\n",
        "    sqerror = mean_squared_error(test.target, labels)\n",
        "    rerror = mean_squared_error(test.target, labels, squared=False)\n",
        "    p_metrics = [acc, pre, rec, f1, abserror, sqerror,rerror]\n",
        "    pmetrics[type(i).__name__] = p_metrics\n",
        "    #created dataframe\n",
        "    df = pd.DataFrame(index=['Accuracy','Precision','Recall','F1Score','MeanAbsoluteError','MeanSquaredError','RootMeanSquaredError'], columns=[type(i).__name__ for i in allmodels])\n",
        "\n",
        "  for i in allmodels:\n",
        "    df[type(i).__name__] = pmetrics[type(i).__name__]\n",
        "\n",
        "  #calculating the model with highest F1 & Accuracy\n",
        "  # index 0 = NaiveBayes; index 1 = Perceptron; index 2 = LogisticRegression\n",
        "  modeldict = {0:'Naive Bayes', 1:'Perceptron', 2:'Logistic Regression'}\n",
        "  accuracyList = []\n",
        "  f1List = []\n",
        "  for i in df:\n",
        "    accuracyList += [df[i].Accuracy]\n",
        "    f1List += [df[i].F1Score]\n",
        "\n",
        "  # sorting accuracy list\n",
        "  for i in range(len(accuracyList)):\n",
        "    for j in range(i+1, len(accuracyList)):\n",
        "      if accuracyList[i] > accuracyList[j]:\n",
        "        accuracyList[i], accuracyList[j] = accuracyList[j],accuracyList[i]\n",
        "  # sorting f1 list\n",
        "  for i in range(len(f1List)):\n",
        "    for j in range(i+1, len(f1List)):\n",
        "      if f1List[i] > f1List[j]:\n",
        "        f1List[i], f1List[j] = f1List[j],f1List[i]\n",
        "\n",
        "  # since the list is sorted, the index of the largest element is equal to the length of the list minus one\n",
        "  acc_larg = len(accuracyList) - 1\n",
        "  f1_larg = len(f1List) - 1\n",
        "\n",
        "  if acc_larg in modeldict:\n",
        "    r1 = f'\\nthe model with largest accuracy is:{modeldict[acc_larg]}'\n",
        "  if f1_larg in modeldict:\n",
        "    r2 = f'the model with largest f1 score is:{modeldict[f1_larg]}'\n",
        "  return df, r1, r2"
      ],
      "execution_count": 278,
      "outputs": []
    },
    {
      "cell_type": "code",
      "metadata": {
        "id": "tExKzsE4-iJr"
      },
      "source": [
        "dff = function(allmodels)"
      ],
      "execution_count": 279,
      "outputs": []
    },
    {
      "cell_type": "code",
      "metadata": {
        "colab": {
          "base_uri": "https://localhost:8080/"
        },
        "id": "Q39a5J51RTVX",
        "outputId": "7069f8d5-010d-4aaa-b813-f76d7dec7cf2"
      },
      "source": [
        "for i in dff:\n",
        "  print(i)"
      ],
      "execution_count": 280,
      "outputs": [
        {
          "output_type": "stream",
          "text": [
            "                      Perceptron  MultinomialNB  LogisticRegression\n",
            "Accuracy                0.949045       0.947771            0.954140\n",
            "Precision               0.929952       0.911833            0.950000\n",
            "Recall                  0.972222       0.992424            0.959596\n",
            "F1Score                 0.948993       0.947621            0.954131\n",
            "MeanAbsoluteError       0.050955       0.052229            0.045860\n",
            "MeanSquaredError        0.050955       0.052229            0.045860\n",
            "RootMeanSquaredError    0.225733       0.228537            0.214149\n",
            "\n",
            "the model with largest accuracy is:Logistic Regression\n",
            "the model with largest f1 score is:Logistic Regression\n"
          ],
          "name": "stdout"
        }
      ]
    },
    {
      "cell_type": "code",
      "metadata": {
        "id": "yyyGbcbANy2O"
      },
      "source": [
        "# models selected for answering bonus question\n",
        "allmodels = [Perceptron(), MultinomialNB(), LogisticRegression()]\n",
        "# function to to find the best performing model for the TF-IDF vectorization\n",
        "def function_pandas(allmodels):\n",
        "  pmetrics = dict()\n",
        "  for i in allmodels:\n",
        "    # training all the three choosen models\n",
        "    model = make_pipeline(TfidfVectorizer(), i)\n",
        "    model.fit(train.data, train.target)\n",
        "    labels = model.predict(test.data)\n",
        "    #performance metrics\n",
        "    acc = accuracy_score(test.target,labels)\n",
        "    pre = precision_score(test.target,labels)\n",
        "    rec = recall_score(test.target,labels)\n",
        "    f1 = f1_score(labels, test.target, average='macro')\n",
        "    abserror = mean_absolute_error(test.target,labels)\n",
        "    sqerror = mean_squared_error(test.target, labels)\n",
        "    rerror = mean_squared_error(test.target, labels, squared=False)\n",
        "    p_metrics = [acc, pre, rec, f1, abserror, sqerror,rerror]\n",
        "    pmetrics[type(i).__name__] = p_metrics\n",
        "    #created dataframe\n",
        "    df = pd.DataFrame(index=['Accuracy','Precision','Recall','F1Score','MeanAbsoluteError','MeanSquaredError','RootMeanSquaredError'], columns=[type(i).__name__ for i in allmodels])\n",
        "\n",
        "  for i in allmodels:\n",
        "    df[type(i).__name__] = pmetrics[type(i).__name__]\n",
        "\n",
        "  return df, df.iloc[0].idxmax(), df.iloc[3].idxmax()\n"
      ],
      "execution_count": 307,
      "outputs": []
    },
    {
      "cell_type": "code",
      "metadata": {
        "colab": {
          "base_uri": "https://localhost:8080/"
        },
        "id": "gRHEow_0qKpX",
        "outputId": "fd33458e-ad02-490a-95d1-5d3ef159d416"
      },
      "source": [
        "print(function_pandas(allmodels)[0])\n",
        "print('Model with highest accuracy is:',function_pandas(allmodels)[1])\n",
        "print('Model with highest f1 score is:',function_pandas(allmodels)[2])"
      ],
      "execution_count": 309,
      "outputs": [
        {
          "output_type": "stream",
          "text": [
            "                      Perceptron  MultinomialNB  LogisticRegression\n",
            "Accuracy                0.949045       0.947771            0.954140\n",
            "Precision               0.929952       0.911833            0.950000\n",
            "Recall                  0.972222       0.992424            0.959596\n",
            "F1Score                 0.948993       0.947621            0.954131\n",
            "MeanAbsoluteError       0.050955       0.052229            0.045860\n",
            "MeanSquaredError        0.050955       0.052229            0.045860\n",
            "RootMeanSquaredError    0.225733       0.228537            0.214149\n",
            "Model with highest accuracy is: LogisticRegression\n",
            "Model with highest f1 score is: LogisticRegression\n"
          ],
          "name": "stdout"
        }
      ]
    }
  ]
}