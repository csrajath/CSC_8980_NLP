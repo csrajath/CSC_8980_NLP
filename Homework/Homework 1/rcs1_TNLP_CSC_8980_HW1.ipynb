{
  "nbformat": 4,
  "nbformat_minor": 0,
  "metadata": {
    "colab": {
      "name": "rcs1_TNLP_CSC_8980_HW1",
      "provenance": []
    },
    "kernelspec": {
      "name": "python3",
      "display_name": "Python 3"
    }
  },
  "cells": [
    {
      "cell_type": "markdown",
      "metadata": {
        "id": "WTx8h2g1xfg2"
      },
      "source": [
        "## Rajath Chikkatur Srinivasa - 002552425"
      ]
    },
    {
      "cell_type": "code",
      "metadata": {
        "id": "wbWOFg30Ffbn"
      },
      "source": [
        "#imports\n",
        "import re"
      ],
      "execution_count": 1,
      "outputs": []
    },
    {
      "cell_type": "markdown",
      "metadata": {
        "id": "c8ICu-Wyxlhk"
      },
      "source": [
        "1. Write a piece of code using a regular expression in Python to count how many times\n",
        "the following name appears: CICERO, this regex needs to be case-sensitive. (10 points)"
      ]
    },
    {
      "cell_type": "code",
      "metadata": {
        "id": "4-veqcWzFZn3"
      },
      "source": [
        ""
      ],
      "execution_count": null,
      "outputs": []
    },
    {
      "cell_type": "markdown",
      "metadata": {
        "id": "03qRTbJYxpv1"
      },
      "source": [
        "2. Write a regular expression in Python that finds all 6 character words found in this play.\n",
        "(10 points)"
      ]
    },
    {
      "cell_type": "code",
      "metadata": {
        "id": "YrloSC6cFaR-"
      },
      "source": [
        ""
      ],
      "execution_count": null,
      "outputs": []
    },
    {
      "cell_type": "markdown",
      "metadata": {
        "id": "YVC4qSgNxxqe"
      },
      "source": [
        "3. Write a piece of code that uses a regular expression in Python to count how many\n",
        "words are capitalized in the first letter only. (20 points)"
      ]
    },
    {
      "cell_type": "code",
      "metadata": {
        "id": "ZNv16Wz-Faud"
      },
      "source": [
        ""
      ],
      "execution_count": null,
      "outputs": []
    },
    {
      "cell_type": "markdown",
      "metadata": {
        "id": "hMMvZQTXx3Cu"
      },
      "source": [
        "4. Write a regular expression using groups in Python that extracts all phrases that have\n",
        "“son of ” and extract/output the answer in a case-insensitive way. For example, for the\n",
        "following “I am the son of earth”, should find “son of earth” and extract/output “earth”.\n",
        "(20 points)"
      ]
    },
    {
      "cell_type": "code",
      "metadata": {
        "id": "CHNCJLGJFbuk"
      },
      "source": [
        ""
      ],
      "execution_count": null,
      "outputs": []
    },
    {
      "cell_type": "markdown",
      "metadata": {
        "id": "zK7KOySEx86u"
      },
      "source": [
        "5. Plays are divided in acts, write a regular expression using groups in Python that\n",
        "extracts the number of each act found in this play in a case-sensitive way. (20 points)"
      ]
    },
    {
      "cell_type": "code",
      "metadata": {
        "id": "1A9lOzWCFcPC"
      },
      "source": [
        ""
      ],
      "execution_count": null,
      "outputs": []
    },
    {
      "cell_type": "markdown",
      "metadata": {
        "id": "JzhRJACfx_Vf"
      },
      "source": [
        "6. Write a Python function that takes the file as an input and outputs how many lines end\n",
        "with: ? , that is a question mark at the end of the line. This function needs to use a\n",
        "regular expression. (20 points)"
      ]
    },
    {
      "cell_type": "code",
      "metadata": {
        "id": "5ly0xvcdFczu"
      },
      "source": [
        "def endLine(fileinput):\n",
        "  lCount = 0\n",
        "  with open(testing, 'r', encoding='utf-8'):\n",
        "    pass\n",
        "  return f\"{lCount} lines end with '?'\""
      ],
      "execution_count": 6,
      "outputs": []
    },
    {
      "cell_type": "markdown",
      "metadata": {
        "id": "AuEMA-pAyFo7"
      },
      "source": [
        "7. Using the code from Class 04, train a Random Forest classification model for the same\n",
        "two newsgroups, generate the confusion matrix, and all the same performance metrics.\n",
        "(50 points)"
      ]
    },
    {
      "cell_type": "code",
      "metadata": {
        "id": "T9W-Dz4UFdU8"
      },
      "source": [
        ""
      ],
      "execution_count": null,
      "outputs": []
    },
    {
      "cell_type": "markdown",
      "metadata": {
        "id": "xclYP2ufyLjr"
      },
      "source": [
        "Bonus (15 points): Using the code from Class 04. Write a function to find the best\n",
        "performing model for the TF-IDF vectorization. The requirements for this are: 1) Pass all\n",
        "metrics for each model in a single dataframe (each row has a metric value, each column\n",
        "is a model type). 2) Make the decision of the best model by counting which column has\n",
        "the highest F1-score and accuracy."
      ]
    },
    {
      "cell_type": "code",
      "metadata": {
        "id": "N6eWK47sFd41"
      },
      "source": [
        ""
      ],
      "execution_count": null,
      "outputs": []
    }
  ]
}