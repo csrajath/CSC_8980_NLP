{
  "nbformat": 4,
  "nbformat_minor": 0,
  "metadata": {
    "colab": {
      "name": "rcs1_TNLP_CSC_8980_HW1",
      "provenance": []
    },
    "kernelspec": {
      "name": "python3",
      "display_name": "Python 3"
    }
  },
  "cells": [
    {
      "cell_type": "markdown",
      "metadata": {
        "id": "WTx8h2g1xfg2"
      },
      "source": [
        "## Rajath Chikkatur Srinivasa - 002552425"
      ]
    },
    {
      "cell_type": "code",
      "metadata": {
        "id": "wbWOFg30Ffbn"
      },
      "source": [
        "#imports and initializations\n",
        "import re\n",
        "%matplotlib inline\n",
        "#importing data science libraries\n",
        "import pandas as pd\n",
        "import numpy as np\n",
        "import matplotlib.pyplot as plt\n",
        "import seaborn as sns; sns.set()\n",
        "from sklearn.datasets import fetch_20newsgroups\n",
        "from sklearn.pipeline import make_pipeline\n",
        "#importing metrics\n",
        "from sklearn.metrics import confusion_matrix\n",
        "from sklearn.metrics import accuracy_score\n",
        "from sklearn.metrics import precision_score\n",
        "from sklearn.metrics import recall_score\n",
        "from sklearn.metrics import f1_score\n",
        "from sklearn.metrics import mean_absolute_error\n",
        "from sklearn.metrics import mean_squared_error\n",
        "#importing classifier types\n",
        "from sklearn.ensemble import RandomForestClassifier\n",
        "from sklearn.naive_bayes import MultinomialNB\n",
        "from sklearn.linear_model import LogisticRegression\n",
        "from sklearn.linear_model import Perceptron\n",
        "#import feature extrator type\n",
        "from sklearn.feature_extraction.text import TfidfVectorizer"
      ],
      "execution_count": 1,
      "outputs": []
    },
    {
      "cell_type": "code",
      "metadata": {
        "id": "H2nx8eS6UADo"
      },
      "source": [
        "#reading the input file\n",
        "filetext = open('hw_1-text.txt', 'r').read()"
      ],
      "execution_count": null,
      "outputs": []
    },
    {
      "cell_type": "markdown",
      "metadata": {
        "id": "c8ICu-Wyxlhk"
      },
      "source": [
        "1. Write a piece of code using a regular expression in Python to count how many times\n",
        "the following name appears: CICERO, this regex needs to be case-sensitive. (10 points)"
      ]
    },
    {
      "cell_type": "code",
      "metadata": {
        "id": "4-veqcWzFZn3",
        "colab": {
          "base_uri": "https://localhost:8080/"
        },
        "outputId": "214a84f1-b4e0-43cb-971e-4fd939dd03e9"
      },
      "source": [
        "# regular expression that finds all 6 character words found in this play.\n",
        "cRE = r\"\\b[CICERO]{6}\\b\"\n",
        "#driverCode that counts the total presence\n",
        "nameCount = re.findall(cRE, filetext, re.M)\n",
        "print(f\"CICERO is present {len(nameCount)} times.\")"
      ],
      "execution_count": null,
      "outputs": [
        {
          "output_type": "stream",
          "text": [
            "CICERO is present 7 times.\n"
          ],
          "name": "stdout"
        }
      ]
    },
    {
      "cell_type": "markdown",
      "metadata": {
        "id": "03qRTbJYxpv1"
      },
      "source": [
        "2. Write a regular expression in Python that finds all 6 character words found in this play.\n",
        "(10 points)"
      ]
    },
    {
      "cell_type": "code",
      "metadata": {
        "id": "YrloSC6cFaR-",
        "colab": {
          "base_uri": "https://localhost:8080/"
        },
        "outputId": "ae3872ac-539a-42aa-c3f3-b9107188f64f"
      },
      "source": [
        "# regular expression that finds all 6 character words found in this play.\n",
        "lRE = r\"\\b[a-zA-Z]{6}\\b\"\n",
        "#driverCode that lists all 6 character words found in this play\n",
        "res = re.findall(lRE, filetext)\n",
        "print('list of all the 6 caracter words found in this play are:\\n',res) \n",
        "print('total number of all the 6 caracter words found in this play is:\\n',len(res)) "
      ],
      "execution_count": null,
      "outputs": [
        {
          "output_type": "stream",
          "text": [
            "list of all the 6 caracter words found in this play are:\n",
            " ['Julius', 'Caesar', 'street', 'Second', 'answer', 'Second', 'indeed', 'mender', 'Second', 'fellow', 'Second', 'cobble', 'Second', 'meddle', 'indeed', 'danger', 'proper', 'Second', 'myself', 'indeed', 'Caesar', 'brings', 'follow', 'wheels', 'blocks', 'stones', 'things', 'hearts', 'Pompey', 'towers', 'Pompey', 'appear', 'sounds', 'shores', 'attire', 'Pompey', 'houses', 'plague', 'lowest', 'stream', 'shores', 'Exeunt', 'basest', 'vanish', 'tongue', 'images', 'matter', 'images', 'Caesar', 'vulgar', 'Caesar', 'Exeunt', 'public', 'CAESAR', 'ANTONY', 'course', 'PORTIA', 'DECIUS', 'BRUTUS', 'CICERO', 'BRUTUS', 'CAESAR', 'Caesar', 'speaks', 'CAESAR', 'CAESAR', 'course', 'ANTONY', 'Caesar', 'CAESAR', 'Forget', 'elders', 'barren', 'ANTONY', 'Caesar', 'CAESAR', 'Caesar', 'CAESAR', 'CAESAR', 'tongue', 'Caesar', 'Caesar', 'Beware', 'CAESAR', 'BRUTUS', 'beware', 'CAESAR', 'before', 'Fellow', 'throng', 'Caesar', 'CAESAR', 'Beware', 'CAESAR', 'Sennet', 'Exeunt', 'except', 'BRUTUS', 'course', 'BRUTUS', 'BRUTUS', 'spirit', 'Antony', 'hinder', 'Brutus', 'friend', 'BRUTUS', 'Merely', 'myself', 'proper', 'myself', 'number', 'Brutus', 'Brutus', 'breast', 'buried', 'worthy', 'Brutus', 'BRUTUS', 'itself', 'things', 'Brutus', 'hidden', 'shadow', 'Except', 'Caesar', 'Brutus', 'Brutus', 'BRUTUS', 'myself', 'Brutus', 'cannot', 'gentle', 'Brutus', 'common', 'myself', 'BRUTUS', 'people', 'Choose', 'Caesar', 'BRUTUS', 'impart', 'toward', 'honour', 'honour', 'virtue', 'Brutus', 'favour', 'honour', 'cannot', 'single', 'myself', 'Caesar', 'Endure', 'winter', 'shores', 'Caesar', 'Darest', 'yonder', 'follow', 'indeed', 'buffet', 'sinews', 'hearts', 'arrive', 'Caesar', 'Aeneas', 'flames', 'Caesar', 'become', 'Caesar', 'coward', 'colour', 'lustre', 'tongue', 'Romans', 'feeble', 'temper', 'should', 'BRUTUS', 'Caesar', 'narrow', 'graves', 'Brutus', 'Brutus', 'Caesar', 'should', 'Caesar', 'should', 'become', 'Brutus', 'spirit', 'Caesar', 'Caesar', 'shamed', 'bloods', 'indeed', 'enough', 'Brutus', 'easily', 'BRUTUS', 'answer', 'things', 'friend', 'Brutus', 'rather', 'repute', 'struck', 'Brutus', 'BRUTUS', 'Caesar', 'sleeve', 'worthy', 'CAESAR', 'BRUTUS', 'Caesar', 'Cicero', 'ferret', 'matter', 'CAESAR', 'ANTONY', 'Caesar', 'CAESAR', 'headed', 'nights', 'hungry', 'thinks', 'ANTONY', 'Caesar', 'CAESAR', 'fatter', 'liable', 'should', 'Antony', 'Seldom', 'smiles', 'smiles', 'spirit', 'Whiles', 'behold', 'rather', 'always', 'Caesar', 'Sennet', 'Exeunt', 'CAESAR', 'BRUTUS', 'Caesar', 'BRUTUS', 'should', 'people', 'BRUTUS', 'second', 'thrice', 'BRUTUS', 'thrice', 'thrice', 'honest', 'Antony', 'BRUTUS', 'manner', 'gentle', 'hanged', 'manner', 'Antony', 'hooted', 'sweaty', 'breath', 'Caesar', 'almost', 'choked', 'Caesar', 'Caesar', 'swound', 'market', 'foamed', 'BRUTUS', 'Caesar', 'honest', 'Caesar', 'people', 'BRUTUS', 'before', 'common', 'throat', 'rogues', 'hearts', 'Caesar', 'BRUTUS', 'Cicero', 'effect', 'smiled', 'scarfs', 'Caesar', 'images', 'morrow', 'dinner', 'eating', 'expect', 'BRUTUS', 'fellow', 'mettle', 'school', 'digest', 'better', 'BRUTUS', 'morrow', 'please', 'BRUTUS', 'Brutus', 'cannot', 'Caesar', 'Brutus', 'Brutus', 'should', 'humour', 'Caesar', 'Caesar', 'endure', 'street', 'CICERO', 'CICERO', 'Caesar', 'Shakes', 'unfirm', 'Cicero', 'knotty', 'clouds', 'Either', 'strife', 'heaven', 'CICERO', 'common', 'twenty', 'remain', 'glared', 'market', 'things', 'CICERO', 'Indeed', 'things', 'things', 'Caesar', 'morrow', 'morrow', 'CICERO', 'Cicero', 'CICERO', 'honest', 'menace', 'faults', 'breast', 'heaven', 'myself', 'mighty', 'tokens', 'sparks', 'should', 'wonder', 'ghosts', 'beasts', 'things', 'change', 'heaven', 'graves', 'action', 'Caesar', 'Romans', 'govern', 'Indeed', 'Caesar', 'dagger', 'strong', 'defeat', 'beaten', 'strong', 'spirit', 'itself', 'cancel', 'should', 'Caesar', 'tyrant', 'Romans', 'Romans', 'mighty', 'straws', 'serves', 'matter', 'Caesar', 'Before', 'answer', 'griefs', 'minded', 'Romans', 'Pompey', 'favour', 'bloody', 'awhile', 'friend', 'Cimber', 'sights', 'Brutus', 'Brutus', 'window', 'Brutus', 'statue', 'Repair', 'Pompey', 'Decius', 'Brutus', 'Cimber', 'bestow', 'papers', 'repair', 'Pompey', 'Brutus', 'entire', 'yields', 'people', 'hearts', 'appear', 'change', 'virtue', 'Exeunt', 'BRUTUS', 'BRUTUS', 'BRUTUS', 'Lucius', 'cannot', 'Lucius', 'Lucius', 'Lucius', 'LUCIUS', 'LUCIUS', 'BRUTUS', 'Lucius', 'LUCIUS', 'BRUTUS', 'change', 'nature', 'bright', 'brings', 'craves', 'danger', 'Caesar', 'reason', 'common', 'ladder', 'upward', 'upmost', 'ladder', 'clouds', 'ascend', 'Caesar', 'colour', 'LUCIUS', 'LUCIUS', 'closet', 'window', 'letter', 'BRUTUS', 'morrow', 'LUCIUS', 'BRUTUS', 'LUCIUS', 'BRUTUS', 'letter', 'Brutus', 'strike', 'Brutus', 'strike', 'strike', 'follow', 'Brutus', 'LUCIUS', 'LUCIUS', 'wasted', 'within', 'BRUTUS', 'knocks', 'LUCIUS', 'Caesar', 'acting', 'motion', 'Genius', 'mortal', 'little', 'nature', 'LUCIUS', 'LUCIUS', 'desire', 'BRUTUS', 'LUCIUS', 'BRUTUS', 'LUCIUS', 'buried', 'cloaks', 'favour', 'BRUTUS', 'LUCIUS', 'cavern', 'enough', 'visage', 'smiles', 'native', 'Erebus', 'itself', 'enough', 'DECIUS', 'BRUTUS', 'CIMBER', 'morrow', 'Brutus', 'BRUTUS', 'BRUTUS', 'hither', 'Decius', 'Brutus', 'BRUTUS', 'Cimber', 'BRUTUS', 'BRUTUS', 'DECIUS', 'BRUTUS', 'pardon', 'clouds', 'arises', 'season', 'months', 'higher', 'toward', 'Stands', 'BRUTUS', 'BRUTUS', 'enough', 'kindle', 'valour', 'secret', 'Romans', 'palter', 'feeble', 'wrongs', 'causes', 'virtue', 'mettle', 'guilty', 'Cicero', 'strong', 'CIMBER', 'silver', 'voices', 'youths', 'appear', 'buried', 'BRUTUS', 'follow', 'Indeed', 'DECIUS', 'BRUTUS', 'Caesar', 'Decius', 'Antony', 'Caesar', 'Should', 'Caesar', 'shrewd', 'Antony', 'Caesar', 'BRUTUS', 'course', 'bloody', 'Antony', 'Caesar', 'spirit', 'Caesar', 'spirit', 'Caesar', 'spirit', 'Caesar', 'Caesar', 'gentle', 'boldly', 'hounds', 'hearts', 'subtle', 'common', 'Antony', 'Caesar', 'Caesar', 'Caesar', 'BRUTUS', 'Caesar', 'Caesar', 'should', 'sports', 'BRUTUS', 'Caesar', 'dreams', 'terror', 'DECIUS', 'BRUTUS', 'ersway', 'betray', 'humour', 'BRUTUS', 'eighth', 'CIMBER', 'Caesar', 'Pompey', 'wonder', 'BRUTUS', 'hither', 'Brutus', 'Romans', 'BRUTUS', 'actors', 'formal', 'morrow', 'Exeunt', 'BRUTUS', 'Lucius', 'asleep', 'matter', 'brains', 'PORTIA', 'PORTIA', 'Brutus', 'BRUTUS', 'Portia', 'health', 'commit', 'PORTIA', 'Brutus', 'supper', 'Musing', 'across', 'matter', 'stared', 'answer', 'withal', 'Hoping', 'effect', 'humour', 'should', 'Brutus', 'BRUTUS', 'health', 'PORTIA', 'Brutus', 'health', 'BRUTUS', 'Portia', 'PORTIA', 'Brutus', 'Brutus', 'rheumy', 'Brutus', 'within', 'virtue', 'beauty', 'unfold', 'resort', 'BRUTUS', 'gentle', 'Portia', 'PORTIA', 'should', 'gentle', 'Brutus', 'Within', 'Brutus', 'should', 'Portia', 'Brutus', 'harlot', 'BRUTUS', 'PORTIA', 'should', 'secret', 'withal', 'Brutus', 'withal', 'father', 'strong', 'Giving', 'myself', 'BRUTUS', 'Render', 'worthy', 'within', 'knocks', 'Portia', 'awhile', 'PORTIA', 'Lucius', 'knocks', 'LUCIUS', 'LUCIUS', 'BRUTUS', 'morrow', 'feeble', 'tongue', 'BRUTUS', 'Brutus', 'worthy', 'honour', 'BRUTUS', 'Romans', 'before', 'spirit', 'strive', 'things', 'better', 'BRUTUS', 'BRUTUS', 'unfold', 'follow', 'Brutus', 'BRUTUS', 'Follow', 'Exeunt', 'CAESAR', 'CAESAR', 'CAESAR', 'heaven', 'Thrice', 'murder', 'Caesar', 'within', 'CAESAR', 'Caesar', 'CAESAR', 'Caesar', 'things', 'Caesar', 'Caesar', 'fright', 'within', 'things', 'horrid', 'sights', 'graves', 'Fierce', 'fought', 'clouds', 'battle', 'Horses', 'ghosts', 'shriek', 'squeal', 'Caesar', 'things', 'beyond', 'CAESAR', 'mighty', 'Caesar', 'Caesar', 'comets', 'CAESAR', 'before', 'deaths', 'should', 'Seeing', 'within', 'CAESAR', 'Caesar', 'should', 'should', 'Caesar', 'danger', 'Caesar', 'litter', 'Caesar', 'wisdom', 'Antony', 'senate', 'CAESAR', 'Antony', 'humour', 'DECIUS', 'BRUTUS', 'Decius', 'Brutus', 'DECIUS', 'BRUTUS', 'Caesar', 'morrow', 'worthy', 'Caesar', 'senate', 'CAESAR', 'Cannot', 'falser', 'Decius', 'CAESAR', 'Caesar', 'afraid', 'Decius', 'Caesar', 'DECIUS', 'BRUTUS', 'mighty', 'Caesar', 'CAESAR', 'enough', 'senate', 'dreamt', 'statua', 'spouts', 'Romans', 'DECIUS', 'BRUTUS', 'vision', 'statue', 'Romans', 'bathed', 'stains', 'relics', 'CAESAR', 'DECIUS', 'BRUTUS', 'senate', 'mighty', 'Caesar', 'change', 'render', 'senate', 'Caesar', 'better', 'dreams', 'Caesar', 'Caesar', 'afraid', 'Pardon', 'Caesar', 'reason', 'liable', 'CAESAR', 'BRUTUS', 'morrow', 'Caesar', 'CAESAR', 'Brutus', 'morrow', 'Caesar', 'BRUTUS', 'Caesar', 'CAESAR', 'ANTONY', 'Antony', 'revels', 'nights', 'morrow', 'Antony', 'ANTONY', 'Caesar', 'CAESAR', 'within', 'waited', 'Caesar', 'CAESAR', 'BRUTUS', 'Caesar', 'Brutus', 'yearns', 'Exeunt', 'street', 'Caesar', 'beware', 'Brutus', 'Cimber', 'Decius', 'Brutus', 'Caesar', 'mighty', 'defend', 'Caesar', 'suitor', 'virtue', 'cannot', 'Caesar', 'street', 'before', 'BRUTUS', 'PORTIA', 'LUCIUS', 'PORTIA', 'senate', 'answer', 'LUCIUS', 'errand', 'PORTIA', 'strong', 'tongue', 'LUCIUS', 'should', 'return', 'PORTIA', 'sickly', 'Caesar', 'LUCIUS', 'PORTIA', 'listen', 'rumour', 'brings', 'LUCIUS', 'PORTIA', 'hither', 'fellow', 'PORTIA', 'PORTIA', 'Caesar', 'PORTIA', 'Caesar', 'please', 'Caesar', 'Caesar', 'PORTIA', 'chance', 'morrow', 'street', 'narrow', 'throng', 'Caesar', 'common', 'feeble', 'almost', 'Caesar', 'PORTIA', 'Brutus', 'Brutus', 'Caesar', 'Lucius', 'Exeunt', 'Before', 'Senate', 'people', 'CAESAR', 'BRUTUS', 'DECIUS', 'BRUTUS', 'CIMBER', 'ANTONY', 'others', 'CAESAR', 'Caesar', 'Caesar', 'DECIUS', 'BRUTUS', 'desire', 'erread', 'humble', 'Caesar', 'Caesar', 'nearer', 'Caesar', 'CAESAR', 'served', 'Caesar', 'CAESAR', 'fellow', 'Sirrah', 'street', 'CAESAR', 'Senate', 'thrive', 'CAESAR', 'BRUTUS', 'thrive', 'BRUTUS', 'Caesar', 'sudden', 'Brutus', 'Caesar', 'myself', 'BRUTUS', 'speaks', 'smiles', 'Caesar', 'change', 'Brutus', 'Antony', 'Exeunt', 'ANTONY', 'DECIUS', 'BRUTUS', 'Cimber', 'prefer', 'Caesar', 'BRUTUS', 'second', 'CAESAR', 'Caesar', 'senate', 'CIMBER', 'mighty', 'Caesar', 'Cimber', 'throws', 'before', 'humble', 'CAESAR', 'Cimber', 'decree', 'Caesar', 'decree', 'Caesar', 'CIMBER', 'worthy', 'Caesar', 'banish', 'BRUTUS', 'Caesar', 'Cimber', 'repeal', 'CAESAR', 'Brutus', 'Pardon', 'Caesar', 'Caesar', 'pardon', 'Cimber', 'fellow', 'sparks', 'number', 'motion', 'little', 'Cimber', 'should', 'banish', 'remain', 'Caesar', 'CAESAR', 'DECIUS', 'BRUTUS', 'Caesar', 'CAESAR', 'Brutus', 'BRUTUS', 'CAESAR', 'CAESAR', 'Caesar', 'common', 'BRUTUS', 'People', 'pulpit', 'Brutus', 'DECIUS', 'BRUTUS', 'BRUTUS', 'mutiny', 'CIMBER', 'friend', 'Caesar', 'Should', 'chance', 'BRUTUS', 'person', 'people', 'should', 'BRUTUS', 'Antony', 'amazed', 'BRUTUS', 'twenty', 'BRUTUS', 'Caesar', 'Romans', 'Caesar', 'elbows', 'swords', 'market', 'waving', 'states', 'unborn', 'BRUTUS', 'Caesar', 'Pompey', 'DECIUS', 'BRUTUS', 'Brutus', 'hearts', 'BRUTUS', 'friend', 'Antony', 'Brutus', 'master', 'Antony', 'Brutus', 'honest', 'Caesar', 'mighty', 'loving', 'Brutus', 'honour', 'Caesar', 'honour', 'Brutus', 'Antony', 'safely', 'Caesar', 'Antony', 'Caesar', 'Brutus', 'living', 'follow', 'Brutus', 'untrod', 'master', 'Antony', 'BRUTUS', 'master', 'please', 'honour', 'Depart', 'BRUTUS', 'friend', 'BRUTUS', 'Antony', 'ANTONY', 'Antony', 'ANTONY', 'mighty', 'Caesar', 'spoils', 'Shrunk', 'little', 'intend', 'myself', 'Caesar', 'swords', 'whilst', 'Fulfil', 'myself', 'please', 'Caesar', 'choice', 'master', 'BRUTUS', 'Antony', 'Though', 'appear', 'bloody', 'hearts', 'drives', 'Caesar', 'swords', 'leaden', 'points', 'Antony', 'malice', 'hearts', 'temper', 'strong', 'BRUTUS', 'beside', 'Caesar', 'struck', 'ANTONY', 'wisdom', 'render', 'bloody', 'Marcus', 'Brutus', 'Decius', 'Brutus', 'Though', 'credit', 'stands', 'ground', 'Either', 'coward', 'Caesar', 'spirit', 'grieve', 'dearer', 'making', 'bloody', 'wounds', 'stream', 'become', 'better', 'Pardon', 'Julius', 'forest', 'indeed', 'Antony', 'ANTONY', 'Pardon', 'Caesar', 'friend', 'Caesar', 'number', 'depend', 'ANTONY', 'indeed', 'Caesar', 'Caesar', 'BRUTUS', 'savage', 'regard', 'Antony', 'Caesar', 'should', 'ANTONY', 'suitor', 'market', 'pulpit', 'friend', 'BRUTUS', 'Antony', 'Brutus', 'BRUTUS', 'Antony', 'people', 'BRUTUS', 'pardon', 'myself', 'pulpit', 'reason', 'Caesar', 'Antony', 'speaks', 'Caesar', 'lawful', 'BRUTUS', 'Antony', 'Caesar', 'speech', 'devise', 'Caesar', 'pulpit', 'speech', 'ANTONY', 'desire', 'BRUTUS', 'follow', 'Exeunt', 'ANTONY', 'ANTONY', 'pardon', 'gentle', 'costly', 'wounds', 'mouths', 'tongue', 'fierce', 'strife', 'cumber', 'behold', 'choked', 'custom', 'Caesar', 'spirit', 'burial', 'Caesar', 'Antony', 'ANTONY', 'Caesar', 'coming', 'Caesar', 'Seeing', 'ANTONY', 'Seeing', 'sorrow', 'master', 'coming', 'within', 'ANTONY', 'safety', 'awhile', 'market', 'people', 'bloody', 'things', 'Exeunt', 'CAESAR', 'BRUTUS', 'throng', 'BRUTUS', 'follow', 'street', 'follow', 'public', 'Caesar', 'Brutus', 'Second', 'BRUTUS', 'pulpit', 'Brutus', 'BRUTUS', 'Romans', 'lovers', 'silent', 'honour', 'honour', 'wisdom', 'senses', 'better', 'friend', 'Caesar', 'Brutus', 'Caesar', 'friend', 'demand', 'Brutus', 'Caesar', 'answer', 'Caesar', 'rather', 'Caesar', 'living', 'slaves', 'Caesar', 'Caesar', 'honour', 'honour', 'valour', 'Brutus', 'BRUTUS', 'Caesar', 'Brutus', 'worthy', 'ANTONY', 'others', 'CAESAR', 'Antony', 'though', 'depart', 'dagger', 'myself', 'please', 'Brutus', 'Second', 'statue', 'Caesar', 'Fourth', 'Caesar', 'better', 'Brutus', 'shouts', 'BRUTUS', 'Second', 'Brutus', 'speaks', 'BRUTUS', 'depart', 'Antony', 'Caesar', 'corpse', 'speech', 'Caesar', 'Antony', 'depart', 'Antony', 'Antony', 'public', 'Antony', 'ANTONY', 'Brutus', 'pulpit', 'Fourth', 'Brutus', 'Brutus', 'Fourth', 'Brutus', 'Caesar', 'tyrant', 'Second', 'Antony', 'ANTONY', 'gentle', 'Romans', 'ANTONY', 'Romans', 'Caesar', 'praise', 'Caesar', 'Brutus', 'Caesar', 'Caesar', 'answer', 'Brutus', 'Brutus', 'Caesar', 'friend', 'Brutus', 'Brutus', 'Caesar', 'Caesar', 'should', 'Brutus', 'Brutus', 'thrice', 'kingly', 'thrice', 'refuse', 'Brutus', 'Brutus', 'beasts', 'reason', 'coffin', 'Caesar', 'reason', 'Second', 'matter', 'Caesar', 'Fourth', 'Second', 'nobler', 'Antony', 'Fourth', 'begins', 'ANTONY', 'Caesar', 'hearts', 'mutiny', 'should', 'Brutus', 'rather', 'choose', 'myself', 'Caesar', 'closet', 'pardon', 'Caesar', 'wounds', 'sacred', 'memory', 'within', 'legacy', 'Fourth', 'Antony', 'Caesar', 'ANTONY', 'gentle', 'Caesar', 'stones', 'Caesar', 'should', 'Fourth', 'Antony', 'Caesar', 'ANTONY', 'awhile', 'ershot', 'myself', 'Caesar', 'Fourth', 'Second', 'ANTONY', 'compel', 'corpse', 'Caesar', 'Second', 'ANTONY', 'Fourth', 'hearse', 'Second', 'Antony', 'Antony', 'ANTONY', 'ANTONY', 'mantle', 'Caesar', 'summer', 'Nervii', 'dagger', 'Brutus', 'cursed', 'Caesar', 'follow', 'Brutus', 'Brutus', 'Caesar', 'dearly', 'Caesar', 'Caesar', 'strong', 'mighty', 'mantle', 'Pompey', 'statua', 'Caesar', 'Whilst', 'bloody', 'behold', 'Caesar', 'Second', 'Caesar', 'Fourth', 'bloody', 'Second', 'ANTONY', 'Antony', 'Second', 'follow', 'ANTONY', 'sudden', 'mutiny', 'griefs', 'answer', 'hearts', 'orator', 'Brutus', 'friend', 'public', 'Action', 'speech', 'Caesar', 'wounds', 'mouths', 'Brutus', 'Brutus', 'Antony', 'Antony', 'ruffle', 'tongue', 'Caesar', 'should', 'stones', 'mutiny', 'mutiny', 'Brutus', 'ANTONY', 'Antony', 'Antony', 'ANTONY', 'Caesar', 'forgot', 'ANTONY', 'Caesar', 'Second', 'Caesar', 'Caesar', 'ANTONY', 'ANTONY', 'common', 'abroad', 'Caesar', 'brands', 'houses', 'Second', 'Fourth', 'Exeunt', 'ANTONY', 'course', 'fellow', 'ANTONY', 'Caesar', 'ANTONY', 'Brutus', 'madmen', 'ANTONY', 'Belike', 'notice', 'people', 'Exeunt', 'street', 'dreamt', 'Caesar', 'things', 'charge', 'wander', 'Second', 'Fourth', 'Second', 'Answer', 'Fourth', 'wisely', 'answer', 'wisely', 'wisely', 'Second', 'Caesar', 'friend', 'friend', 'Second', 'matter', 'Fourth', 'pieces', 'Fourth', 'verses', 'verses', 'Fourth', 'matter', 'brands', 'brands', 'Brutus', 'Decius', 'Exeunt', 'ANTONY', 'seated', 'ANTONY', 'Antony', 'sister', 'Antony', 'ANTONY', 'Caesar', 'hither', 'charge', 'ANTONY', 'slight', 'should', 'should', 'ANTONY', 'though', 'divers', 'Either', 'driven', 'having', 'ANTONY', 'motion', 'govern', 'spirit', 'taught', 'barren', 'fellow', 'staled', 'Listen', 'things', 'Brutus', 'powers', 'covert', 'perils', 'surest', 'hearts', 'Exeunt', 'Sardis', 'Before', 'BRUTUS', 'BRUTUS', 'LUCIUS', 'BRUTUS', 'BRUTUS', 'master', 'BRUTUS', 'greets', 'master', 'change', 'worthy', 'Things', 'undone', 'master', 'appear', 'regard', 'honour', 'BRUTUS', 'enough', 'BRUTUS', 'friend', 'begins', 'sicken', 'tricks', 'simple', 'hollow', 'horses', 'mettle', 'should', 'endure', 'bloody', 'crests', 'Sardis', 'BRUTUS', 'within', 'gently', 'powers', 'BRUTUS', 'Second', 'BRUTUS', 'should', 'Brutus', 'wrongs', 'BRUTUS', 'griefs', 'softly', 'Before', 'armies', 'should', 'griefs', 'little', 'ground', 'BRUTUS', 'Lucius', 'Exeunt', 'Brutus', 'BRUTUS', 'appear', 'Lucius', 'taking', 'bribes', 'BRUTUS', 'should', 'BRUTUS', 'Brutus', 'speech', 'BRUTUS', 'BRUTUS', 'Julius', 'struck', 'bribes', 'mighty', 'rather', 'Brutus', 'endure', 'forget', 'BRUTUS', 'BRUTUS', 'forget', 'myself', 'health', 'BRUTUS', 'slight', 'BRUTUS', 'choler', 'madman', 'stares', 'endure', 'BRUTUS', 'slaves', 'crouch', 'humour', 'digest', 'spleen', 'Though', 'BRUTUS', 'better', 'appear', 'please', 'Brutus', 'better', 'better', 'BRUTUS', 'Caesar', 'BRUTUS', 'BRUTUS', 'BRUTUS', 'BRUTUS', 'should', 'terror', 'strong', 'denied', 'heaven', 'rather', 'denied', 'Should', 'answer', 'Marcus', 'Brutus', 'rascal', 'pieces', 'denied', 'BRUTUS', 'answer', 'Brutus', 'friend', 'should', 'friend', 'Brutus', 'BRUTUS', 'BRUTUS', 'faults', 'faults', 'BRUTUS', 'though', 'appear', 'Antony', 'aweary', 'braved', 'Cheque', 'faults', 'spirit', 'dagger', 'breast', 'within', 'Dearer', 'Plutus', 'richer', 'denied', 'Strike', 'Caesar', 'better', 'BRUTUS', 'dagger', 'humour', 'Brutus', 'temper', 'vexeth', 'BRUTUS', 'temper', 'BRUTUS', 'Brutus', 'BRUTUS', 'matter', 'enough', 'humour', 'mother', 'BRUTUS', 'Brutus', 'mother', 'chides', 'Within', 'grudge', 'Within', 'Within', 'LUCIUS', 'matter', 'should', 'vilely', 'BRUTUS', 'sirrah', 'fellow', 'Brutus', 'BRUTUS', 'humour', 'should', 'BRUTUS', 'Exeunt', 'BRUTUS', 'Lucius', 'LUCIUS', 'BRUTUS', 'griefs', 'BRUTUS', 'sorrow', 'better', 'Portia', 'Portia', 'BRUTUS', 'scaped', 'BRUTUS', 'Antony', 'strong', 'absent', 'BRUTUS', 'LUCIUS', 'BRUTUS', 'pledge', 'Lucius', 'cannot', 'Brutus', 'BRUTUS', 'LUCIUS', 'Portia', 'BRUTUS', 'Antony', 'mighty', 'toward', 'Myself', 'BRUTUS', 'Antony', 'BRUTUS', 'Cicero', 'Cicero', 'Cicero', 'BRUTUS', 'BRUTUS', 'BRUTUS', 'BRUTUS', 'manner', 'BRUTUS', 'Portia', 'endure', 'losses', 'should', 'endure', 'nature', 'BRUTUS', 'BRUTUS', 'reason', 'better', 'whilst', 'BRUTUS', 'better', 'people', 'ground', 'forced', 'fuller', 'number', 'people', 'BRUTUS', 'pardon', 'beside', 'utmost', 'height', 'voyage', 'afloat', 'serves', 'BRUTUS', 'nature', 'little', 'morrow', 'BRUTUS', 'Lucius', 'LUCIUS', 'LUCIUS', 'repose', 'Brutus', 'BRUTUS', 'BRUTUS', 'Brutus', 'BRUTUS', 'Exeunt', 'BRUTUS', 'LUCIUS', 'LUCIUS', 'BRUTUS', 'LUCIUS', 'BRUTUS', 'please', 'BRUTUS', 'Lucius', 'sought', 'pocket', 'LUCIUS', 'BRUTUS', 'awhile', 'strain', 'LUCIUS', 'please', 'BRUTUS', 'LUCIUS', 'BRUTUS', 'should', 'bloods', 'LUCIUS', 'BRUTUS', 'sleepy', 'leaden', 'Gentle', 'CAESAR', 'shapes', 'makest', 'spirit', 'Brutus', 'BRUTUS', 'comest', 'BRUTUS', 'BRUTUS', 'spirit', 'Lucius', 'LUCIUS', 'BRUTUS', 'thinks', 'Lucius', 'LUCIUS', 'BRUTUS', 'Lucius', 'LUCIUS', 'BRUTUS', 'LUCIUS', 'BRUTUS', 'Lucius', 'Sirrah', 'Fellow', 'BRUTUS', 'BRUTUS', 'BRUTUS', 'powers', 'before', 'follow', 'Exeunt', 'plains', 'ANTONY', 'Antony', 'proves', 'before', 'demand', 'ANTONY', 'bosoms', 'places', 'fasten', 'bloody', 'battle', 'ANTONY', 'battle', 'softly', 'ANTONY', 'BRUTUS', 'others', 'BRUTUS', 'parley', 'Antony', 'battle', 'ANTONY', 'Caesar', 'answer', 'charge', 'signal', 'BRUTUS', 'before', 'better', 'BRUTUS', 'better', 'ANTONY', 'Brutus', 'Caesar', 'Crying', 'Caesar', 'Antony', 'ANTONY', 'BRUTUS', 'Antony', 'wisely', 'threat', 'before', 'ANTONY', 'Caesar', 'hounds', 'Caesar', 'Whilst', 'damned', 'behind', 'Struck', 'Caesar', 'Brutus', 'tongue', 'redder', 'Caesar', 'thirty', 'wounds', 'Caesar', 'BRUTUS', 'Caesar', 'Unless', 'Brutus', 'BRUTUS', 'strain', 'honour', 'masker', 'ANTONY', 'Antony', 'Exeunt', 'ANTONY', 'billow', 'hazard', 'BRUTUS', 'BRUTUS', 'Pompey', 'battle', 'strong', 'change', 'partly', 'credit', 'things', 'Coming', 'Sardis', 'former', 'ensign', 'mighty', 'eagles', 'steads', 'ravens', 'sickly', 'canopy', 'partly', 'spirit', 'perils', 'BRUTUS', 'Brutus', 'Lovers', 'reason', 'befall', 'battle', 'BRUTUS', 'arming', 'myself', 'powers', 'govern', 'battle', 'BRUTUS', 'Brutus', 'Brutus', 'indeed', 'BRUTUS', 'Exeunt', 'battle', 'Alarum', 'BRUTUS', 'BRUTUS', 'alarum', 'sudden', 'Exeunt', 'Myself', 'ensign', 'coward', 'Brutus', 'having', 'Whilst', 'Antony', 'Antony', 'enough', 'lovest', 'yonder', 'troops', 'troops', 'friend', 'higher', 'regard', 'notest', 'Sirrah', 'almost', 'lights', 'behold', 'coward', 'friend', 'before', 'hither', 'sirrah', 'saving', 'Caesar', 'bowels', 'search', 'answer', 'Caesar', 'change', 'Brutus', 'Antony', 'ground', 'living', 'Clouds', 'things', 'comest', 'mother', 'whilst', 'Brutus', 'report', 'Brutus', 'wreath', 'shouts', 'Brutus', 'Brutus', 'Alarum', 'BRUTUS', 'STRATO', 'BRUTUS', 'yonder', 'BRUTUS', 'upward', 'BRUTUS', 'Julius', 'Caesar', 'mighty', 'spirit', 'abroad', 'swords', 'proper', 'BRUTUS', 'Romans', 'living', 'Romans', 'Should', 'fellow', 'Thasos', 'Romans', 'second', 'Exeunt', 'Alarum', 'armies', 'BRUTUS', 'others', 'BRUTUS', 'Marcus', 'friend', 'Marcus', 'BRUTUS', 'Brutus', 'Marcus', 'Brutus', 'Brutus', 'friend', 'Brutus', 'honour', 'Brutus', 'honour', 'Second', 'Antony', 'Brutus', 'ANTONY', 'Brutus', 'Brutus', 'ANTONY', 'Antony', 'Brutus', 'enough', 'assure', 'Brutus', 'defend', 'Brutus', 'ANTONY', 'Brutus', 'friend', 'assure', 'rather', 'Brutus', 'Exeunt', 'BRUTUS', 'CLITUS', 'STRATO', 'BRUTUS', 'CLITUS', 'BRUTUS', 'Clitus', 'Clitus', 'CLITUS', 'BRUTUS', 'CLITUS', 'rather', 'myself', 'BRUTUS', 'CLITUS', 'Clitus', 'CLITUS', 'Brutus', 'Clitus', 'CLITUS', 'vessel', 'BRUTUS', 'hither', 'BRUTUS', 'Caesar', 'appear', 'Sardis', 'fields', 'BRUTUS', 'worthy', 'school', 'whilst', 'office', 'friend', 'Alarum', 'CLITUS', 'BRUTUS', 'Strato', 'asleep', 'Strato', 'losing', 'Antony', 'attain', 'Brutus', 'tongue', 'almost', 'labour', 'attain', 'Alarum', 'within', 'CLITUS', 'BRUTUS', 'follow', 'Exeunt', 'CLITUS', 'Strato', 'fellow', 'smatch', 'honour', 'Strato', 'STRATO', 'BRUTUS', 'Strato', 'Caesar', 'Alarum', 'ANTONY', 'master', 'Strato', 'master', 'STRATO', 'Brutus', 'honour', 'Brutus', 'should', 'Brutus', 'proved', 'saying', 'served', 'Brutus', 'Fellow', 'bestow', 'STRATO', 'prefer', 'master', 'Strato', 'STRATO', 'follow', 'latest', 'master', 'ANTONY', 'Caesar', 'honest', 'common', 'gentle', 'Nature', 'virtue', 'burial', 'Within', 'Exeunt']\n",
            "total number of all the 6 caracter words found in this play is:\n",
            " 2295\n"
          ],
          "name": "stdout"
        }
      ]
    },
    {
      "cell_type": "markdown",
      "metadata": {
        "id": "YVC4qSgNxxqe"
      },
      "source": [
        "3. Write a piece of code that uses a regular expression in Python to count how many\n",
        "words are capitalized in the first letter only. (20 points)"
      ]
    },
    {
      "cell_type": "code",
      "metadata": {
        "id": "ZNv16Wz-Faud",
        "colab": {
          "base_uri": "https://localhost:8080/"
        },
        "outputId": "8be6fc78-9ec7-4652-8c89-7b01ed87e716"
      },
      "source": [
        "# regular expression that identifies the pattern for all first letter only capitalized words\n",
        "firstCap = r'\\b[A-Z][a-z]*\\b'\n",
        "#driverCode that counts the same\n",
        "res = re.findall(firstCap, filetext, re.M)\n",
        "print(f'total number of first letter only capitalized words are: {len(res)}')"
      ],
      "execution_count": null,
      "outputs": [
        {
          "output_type": "stream",
          "text": [
            "total number of first letter only capitalized words are: 4376\n"
          ],
          "name": "stdout"
        }
      ]
    },
    {
      "cell_type": "markdown",
      "metadata": {
        "id": "hMMvZQTXx3Cu"
      },
      "source": [
        "4. Write a regular expression using groups in Python that extracts all phrases that have\n",
        "“son of ” and extract/output the answer in a case-insensitive way. For example, for the\n",
        "following “I am the son of earth”, should find “son of earth” and extract/output “earth”.\n",
        "(20 points)"
      ]
    },
    {
      "cell_type": "code",
      "metadata": {
        "id": "CHNCJLGJFbuk",
        "colab": {
          "base_uri": "https://localhost:8080/"
        },
        "outputId": "89a83bd4-32da-414a-a278-b5f9b4cc8607"
      },
      "source": [
        "pRE = r'\\b(son of (\\w+))\\b'\n",
        "extract = re.findall(pRE, filetext, re.IGNORECASE)\n",
        "print(extract)"
      ],
      "execution_count": null,
      "outputs": [
        {
          "output_type": "stream",
          "text": [
            "[('son of Rome', 'Rome'), ('son of Caesar', 'Caesar'), ('son of Marcus', 'Marcus'), ('son of Marcus', 'Marcus')]\n"
          ],
          "name": "stdout"
        }
      ]
    },
    {
      "cell_type": "markdown",
      "metadata": {
        "id": "zK7KOySEx86u"
      },
      "source": [
        "5. Plays are divided in acts, write a regular expression using groups in Python that\n",
        "extracts the number of each act found in this play in a case-sensitive way. (20 points)"
      ]
    },
    {
      "cell_type": "code",
      "metadata": {
        "id": "1A9lOzWCFcPC",
        "colab": {
          "base_uri": "https://localhost:8080/"
        },
        "outputId": "8f125a57-3dde-44c6-fc80-6b65acbd1525"
      },
      "source": [
        "nRE = r\"\\bACT (.+)\\b\"\n",
        "reGroups = re.findall(nRE, filetext, re.M)\n",
        "print(reGroups)\n",
        "print('total number of acts present in the play is:', len(reGroups))\n",
        "for e, i in enumerate(reGroups, 1):\n",
        "  print('Number for ACT',e, 'is:', i)"
      ],
      "execution_count": null,
      "outputs": [
        {
          "output_type": "stream",
          "text": [
            "['I', 'II', 'III', 'IV', 'V']\n",
            "total number of acts present in the play is: 5\n",
            "Number for ACT 1 is: I\n",
            "Number for ACT 2 is: II\n",
            "Number for ACT 3 is: III\n",
            "Number for ACT 4 is: IV\n",
            "Number for ACT 5 is: V\n"
          ],
          "name": "stdout"
        }
      ]
    },
    {
      "cell_type": "markdown",
      "metadata": {
        "id": "JzhRJACfx_Vf"
      },
      "source": [
        "6. Write a Python function that takes the file as an input and outputs how many lines end\n",
        "with: ? , that is a question mark at the end of the line. This function needs to use a\n",
        "regular expression. (20 points)"
      ]
    },
    {
      "cell_type": "code",
      "metadata": {
        "id": "5ly0xvcdFczu"
      },
      "source": [
        "#driverCode\n",
        "def endLine(fileinput):\n",
        "  qRE = r\".*\\?$\"\n",
        "  endRE = re.findall(qRE, filetext, re.M)\n",
        "  return f\"{len(endRE)} lines end with '?'\""
      ],
      "execution_count": null,
      "outputs": []
    },
    {
      "cell_type": "code",
      "metadata": {
        "colab": {
          "base_uri": "https://localhost:8080/"
        },
        "id": "kcGTL2R_M-Vi",
        "outputId": "07af0f87-5ff9-4008-b81c-244219728b95"
      },
      "source": [
        "# testing\n",
        "print(endLine('hw_1-text.txt'))"
      ],
      "execution_count": null,
      "outputs": [
        {
          "output_type": "stream",
          "text": [
            "215 lines end with '?'\n"
          ],
          "name": "stdout"
        }
      ]
    },
    {
      "cell_type": "markdown",
      "metadata": {
        "id": "AuEMA-pAyFo7"
      },
      "source": [
        "7. Using the code from Class 04, train a Random Forest classification model for the same\n",
        "two newsgroups, generate the confusion matrix, and all the same performance metrics.\n",
        "(50 points)"
      ]
    },
    {
      "cell_type": "code",
      "metadata": {
        "id": "T9W-Dz4UFdU8",
        "colab": {
          "base_uri": "https://localhost:8080/"
        },
        "outputId": "bac2c8c4-872e-4db3-a39c-6915201de893"
      },
      "source": [
        "#getting news groups\n",
        "data = fetch_20newsgroups()"
      ],
      "execution_count": 2,
      "outputs": [
        {
          "output_type": "stream",
          "text": [
            "Downloading 20news dataset. This may take a few minutes.\n",
            "Downloading dataset from https://ndownloader.figshare.com/files/5975967 (14 MB)\n"
          ],
          "name": "stderr"
        }
      ]
    },
    {
      "cell_type": "code",
      "metadata": {
        "id": "9M8wdPg7WczY"
      },
      "source": [
        "# creating training and test sets\n",
        "categories = ['rec.autos','comp.graphics']\n",
        "train = fetch_20newsgroups(subset='train', categories=categories)\n",
        "test = fetch_20newsgroups(subset='test', categories=categories)"
      ],
      "execution_count": 3,
      "outputs": []
    },
    {
      "cell_type": "code",
      "metadata": {
        "id": "dkKDn71_WfRL"
      },
      "source": [
        "#applying randomforestclassifier\n",
        "model = make_pipeline(TfidfVectorizer(), RandomForestClassifier())\n",
        "model.fit(train.data, train.target)\n",
        "labels = model.predict(test.data)"
      ],
      "execution_count": 4,
      "outputs": []
    },
    {
      "cell_type": "code",
      "metadata": {
        "colab": {
          "base_uri": "https://localhost:8080/",
          "height": 284
        },
        "id": "JgyQZhWpWv7q",
        "outputId": "7655d97f-5fe2-4b14-a6ae-a93369bf3232"
      },
      "source": [
        "#creating confusion matrix and heatmap\n",
        "mat = confusion_matrix(test.target, labels)\n",
        "sns.heatmap(mat.T, square=True, annot=True, fmt='d', cbar=False,\n",
        "            xticklabels=train.target_names, yticklabels=train.target_names)\n",
        "plt.xlabel('true label')\n",
        "plt.ylabel('predicted label');"
      ],
      "execution_count": 5,
      "outputs": [
        {
          "output_type": "display_data",
          "data": {
            "image/png": "[encoded data removed]",
            "text/plain": [
              "<Figure size 432x288 with 1 Axes>"
            ]
          },
          "metadata": {
            "tags": [],
            "needs_background": "light"
          }
        }
      ]
    },
    {
      "cell_type": "code",
      "metadata": {
        "colab": {
          "base_uri": "https://localhost:8080/"
        },
        "id": "zCJgaQ4ZXuOU",
        "outputId": "b48fd556-c220-4b6a-8cce-95eee54b10fb"
      },
      "source": [
        "# printing performance metrics\n",
        "print('Accuracy:',accuracy_score(test.target,labels))\n",
        "print('Precision:', precision_score(test.target,labels))\n",
        "print('Recall:', recall_score(test.target,labels))\n",
        "print('F1 Score:', f1_score(labels, test.target, average='macro'))\n",
        "print('Mean Absolute Error:', mean_absolute_error(test.target,labels))\n",
        "print('Mean Squared Error:', mean_squared_error(test.target, labels))  \n",
        "print('Root Mean Squared Error:', np.sqrt(mean_squared_error(test.target, labels)))"
      ],
      "execution_count": 6,
      "outputs": [
        {
          "output_type": "stream",
          "text": [
            "Accuracy: 0.9121019108280255\n",
            "Precision: 0.9291338582677166\n",
            "Recall: 0.8939393939393939\n",
            "F1 Score: 0.91209278094524\n",
            "Mean Absolute Error: 0.08789808917197452\n",
            "Mean Squared Error: 0.08789808917197452\n",
            "Root Mean Squared Error: 0.2964761190584741\n"
          ],
          "name": "stdout"
        }
      ]
    },
    {
      "cell_type": "markdown",
      "metadata": {
        "id": "xclYP2ufyLjr"
      },
      "source": [
        "Bonus (15 points): Using the code from Class 04. Write a function to find the best\n",
        "performing model for the TF-IDF vectorization. The requirements for this are: 1) Pass all\n",
        "metrics for each model in a single dataframe (each row has a metric value, each column\n",
        "is a model type). 2) Make the decision of the best model by counting which column has\n",
        "the highest F1-score and accuracy."
      ]
    },
    {
      "cell_type": "markdown",
      "metadata": {
        "id": "cTWycLrJX-fo"
      },
      "source": [
        "### Naive Bayes - TF-IDF :"
      ]
    },
    {
      "cell_type": "code",
      "metadata": {
        "id": "N6eWK47sFd41"
      },
      "source": [
        "#model execution on previously generated train and test data\n",
        "model = make_pipeline(TfidfVectorizer(), MultinomialNB())\n",
        "model.fit(train.data, train.target)\n",
        "labels = model.predict(test.data)"
      ],
      "execution_count": null,
      "outputs": []
    },
    {
      "cell_type": "code",
      "metadata": {
        "colab": {
          "base_uri": "https://localhost:8080/"
        },
        "id": "xQsWsUAKbU2E",
        "outputId": "d59222b8-b01a-4175-f49e-13ba9b65b80c"
      },
      "source": [
        "# generating performance metrics for Naive Bayes\n",
        "\n",
        "acc = accuracy_score(test.target,labels)\n",
        "pre = precision_score(test.target,labels,pos_label='positive',average='micro')\n",
        "rec = recall_score(test.target,labels,pos_label='positive',average='micro')\n",
        "f1 = f1_score(labels, test.target, average='macro')\n",
        "abserror = mean_absolute_error(test.target,labels)\n",
        "sqerror = mean_squared_error(test.target, labels)\n",
        "rerror = np.sqrt(mean_squared_error(test.target, labels))"
      ],
      "execution_count": null,
      "outputs": [
        {
          "output_type": "stream",
          "text": [
            "/usr/local/lib/python3.6/dist-packages/sklearn/metrics/_classification.py:1321: UserWarning: Note that pos_label (set to 'positive') is ignored when average != 'binary' (got 'micro'). You may use labels=[pos_label] to specify a single positive class.\n",
            "  % (pos_label, average), UserWarning)\n"
          ],
          "name": "stderr"
        }
      ]
    },
    {
      "cell_type": "code",
      "metadata": {
        "id": "GkDH99wKc3Le"
      },
      "source": [
        "# model metrics\n",
        "modelNB = [acc, pre, rec, f1, abserror, sqerror, rerror]"
      ],
      "execution_count": null,
      "outputs": []
    },
    {
      "cell_type": "markdown",
      "metadata": {
        "id": "JDlkCDwAYfqA"
      },
      "source": [
        "### Perceptron - TF-IDF"
      ]
    },
    {
      "cell_type": "code",
      "metadata": {
        "id": "WS2y_AOpYgl6"
      },
      "source": [
        "#model execution on previously generated train and test data\n",
        "model = make_pipeline(TfidfVectorizer(), Perceptron())\n",
        "model.fit(train.data, train.target)\n",
        "labels = model.predict(test.data)"
      ],
      "execution_count": null,
      "outputs": []
    },
    {
      "cell_type": "code",
      "metadata": {
        "id": "leWa-or8dX9R",
        "colab": {
          "base_uri": "https://localhost:8080/"
        },
        "outputId": "fc23de67-5e7d-4e9c-c306-e649bf2ac35c"
      },
      "source": [
        "# generating performance metrics for Naive Bayes\n",
        "\n",
        "acc = accuracy_score(test.target,labels)\n",
        "pre = precision_score(test.target,labels,pos_label='positive',average='micro')\n",
        "rec = recall_score(test.target,labels,pos_label='positive',average='micro')\n",
        "f1 = f1_score(labels, test.target, average='macro')\n",
        "abserror = mean_absolute_error(test.target,labels)\n",
        "sqerror = mean_squared_error(test.target, labels)\n",
        "rerror = np.sqrt(mean_squared_error(test.target, labels))"
      ],
      "execution_count": null,
      "outputs": [
        {
          "output_type": "stream",
          "text": [
            "/usr/local/lib/python3.6/dist-packages/sklearn/metrics/_classification.py:1321: UserWarning: Note that pos_label (set to 'positive') is ignored when average != 'binary' (got 'micro'). You may use labels=[pos_label] to specify a single positive class.\n",
            "  % (pos_label, average), UserWarning)\n"
          ],
          "name": "stderr"
        }
      ]
    },
    {
      "cell_type": "code",
      "metadata": {
        "id": "SipTqWYAdfRJ"
      },
      "source": [
        "# model metrics\n",
        "modelP = [acc, pre, rec, f1, abserror, sqerror, rerror]"
      ],
      "execution_count": null,
      "outputs": []
    },
    {
      "cell_type": "markdown",
      "metadata": {
        "id": "oYsvda6zYhuT"
      },
      "source": [
        "## Logiatic Regression - TF-IDF"
      ]
    },
    {
      "cell_type": "code",
      "metadata": {
        "id": "v7F5Pq7xYm3u"
      },
      "source": [
        "#model execution on previously generated train and test data\n",
        "model = make_pipeline(TfidfVectorizer(), LogisticRegression())\n",
        "model.fit(train.data, train.target)\n",
        "labels = model.predict(test.data)"
      ],
      "execution_count": null,
      "outputs": []
    },
    {
      "cell_type": "code",
      "metadata": {
        "id": "SQjlM2E2eThe",
        "colab": {
          "base_uri": "https://localhost:8080/"
        },
        "outputId": "191547c5-a1a1-4f53-f860-f827591f0506"
      },
      "source": [
        "# generating performance metrics for Naive Bayes\n",
        "\n",
        "acc = accuracy_score(test.target,labels)\n",
        "pre = precision_score(test.target,labels,pos_label='positive',average='micro')\n",
        "rec = recall_score(test.target,labels,pos_label='positive',average='micro')\n",
        "f1 = f1_score(labels, test.target, average='macro')\n",
        "abserror = mean_absolute_error(test.target,labels)\n",
        "sqerror = mean_squared_error(test.target, labels)\n",
        "rerror = np.sqrt(mean_squared_error(test.target, labels))"
      ],
      "execution_count": null,
      "outputs": [
        {
          "output_type": "stream",
          "text": [
            "/usr/local/lib/python3.6/dist-packages/sklearn/metrics/_classification.py:1321: UserWarning: Note that pos_label (set to 'positive') is ignored when average != 'binary' (got 'micro'). You may use labels=[pos_label] to specify a single positive class.\n",
            "  % (pos_label, average), UserWarning)\n"
          ],
          "name": "stderr"
        }
      ]
    },
    {
      "cell_type": "code",
      "metadata": {
        "id": "wVQGwA9x3t3L"
      },
      "source": [
        "# model metrics\n",
        "modelLR = [acc, pre, rec, f1, abserror, sqerror, rerror]"
      ],
      "execution_count": null,
      "outputs": []
    },
    {
      "cell_type": "code",
      "metadata": {
        "id": "MkqIX9yzGa2t"
      },
      "source": [
        "#solving bonus question without pandas\n",
        "# function to find the best performing model for the TF-IDF vectorization\n",
        "def bestPer(m1,m2,m3):\n",
        "  # model list containing all other model's metric values in same order as: accuracy, precision, recall, f1-score, absolute-error, man-squared-error, root-mean-squared-error]\n",
        "  modelL = [m1,m2,m3]\n",
        "  # index 0 = NaiveBayes; index 1 = Perceptron; index 2 = LogisticRegression\n",
        "  modeldict = {0:'Naive Bayes', 1:'Perceptron', 2:'Logistic Regression'}\n",
        "  i_acc = []\n",
        "  i_acc_sorted = []\n",
        "  i_f1 = []\n",
        "  for i in modelL:\n",
        "    i_acc += [i[0]]\n",
        "    i_f1 += [i[3]]\n",
        "    # sorting accuracy list\n",
        "    for i in range(len(i_acc)):\n",
        "      for j in range(i+1, len(i_acc)):\n",
        "        if i_acc[i] > i_acc[j]:\n",
        "          i_acc[i], i_acc[j] = i_acc[j],i_acc[i]\n",
        "    # sorting f1 list\n",
        "    for i in range(len(i_f1)):\n",
        "      for j in range(i+1, len(i_f1)):\n",
        "        if i_f1[i] > i_f1[j]:\n",
        "          i_f1[i], i_f1[j] = i_f1[j],i_f1[i]\n",
        "    # since the list is sorted, the index of the largest element is equal to the length of the list minus one\n",
        "    acc_larg = len(i_acc) - 1\n",
        "    f1_larg = len(i_f1) - 1\n",
        "  if acc_larg in modeldict:\n",
        "    r1 = f'the model with largest accuracy is:{modeldict[acc_larg]}'\n",
        "  if f1_larg in modeldict:\n",
        "    r2 = f'the model with largest f1 score is:{modeldict[f1_larg]}'\n",
        "  return r1, r2"
      ],
      "execution_count": null,
      "outputs": []
    },
    {
      "cell_type": "code",
      "metadata": {
        "colab": {
          "base_uri": "https://localhost:8080/"
        },
        "id": "sd96tRwlGjCl",
        "outputId": "4cb6b529-d9a9-4d0a-aeea-ceedd964ad86"
      },
      "source": [
        "print(bestPer(modelNB, modelP, modelLR))"
      ],
      "execution_count": null,
      "outputs": [
        {
          "output_type": "stream",
          "text": [
            "('the model with largest accuracy is:Logistic Regression', 'the model with largest f1 score is:Logistic Regression')\n"
          ],
          "name": "stdout"
        }
      ]
    },
    {
      "cell_type": "code",
      "metadata": {
        "id": "Dw_5QQgn3o4q",
        "colab": {
          "base_uri": "https://localhost:8080/"
        },
        "outputId": "3e2d7fdf-335c-4bc1-d10b-b82293c137d7"
      },
      "source": [
        "#solving bonus question with pandas\n",
        "def bonusQ(m1,m2,m3):\n",
        "  df = pd.DataFrame(m1, index=['Accuracy','Precision','Recall','F1 Score','Mean Absolute Error','Mean Squared Error','Root Mean Squared Error'], columns=['Naive_Bayes'])\n",
        "  df['Perceptron'] = m2\n",
        "  df['Logistic Regression'] = m3\n",
        "  return 'The mode with the highest Accuracy score is:', df.iloc[0].idxmax(), 'The mode with the highest F1 score is:', df.iloc[3].idxmax()\n",
        "print(bonusQ(modelNB,modelP,modelLR))"
      ],
      "execution_count": null,
      "outputs": [
        {
          "output_type": "stream",
          "text": [
            "('The mode with the highest Accuracy score is:', 'Logistic Regression', 'The mode with the highest F1 score is:', 'Logistic Regression')\n"
          ],
          "name": "stdout"
        }
      ]
    }
  ]
}