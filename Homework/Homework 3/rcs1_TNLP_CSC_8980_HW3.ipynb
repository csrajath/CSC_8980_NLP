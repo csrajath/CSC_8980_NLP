{
  "nbformat": 4,
  "nbformat_minor": 0,
  "metadata": {
    "colab": {
      "name": "rcs1_TNLP_CSC_8980_HW1",
      "provenance": []
    },
    "kernelspec": {
      "name": "python3",
      "display_name": "Python 3"
    }
  },
  "cells": [
    {
      "cell_type": "markdown",
      "metadata": {
        "id": "WTx8h2g1xfg2"
      },
      "source": [
        "## Rajath Chikkatur Srinivasa - 002552425"
      ]
    },
    {
      "cell_type": "markdown",
      "metadata": {
        "id": "JzhRJACfx_Vf"
      },
      "source": [
        "6. Write a Python function that takes the file as an input and outputs how many lines end\n",
        "with: ? , that is a question mark at the end of the line. This function needs to use a\n",
        "regular expression. (20 points)"
      ]
    },
    {
      "cell_type": "markdown",
      "metadata": {
        "id": "AuEMA-pAyFo7"
      },
      "source": [
        "7. Using the code from Class 04, train a Random Forest classification model for the same\n",
        "two newsgroups, generate the confusion matrix, and all the same performance metrics.\n",
        "(50 points)"
      ]
    },
    {
      "cell_type": "code",
      "metadata": {
        "id": "OwwL_h0pj--7"
      },
      "source": [
        ""
      ],
      "execution_count": null,
      "outputs": []
    }
  ]
}