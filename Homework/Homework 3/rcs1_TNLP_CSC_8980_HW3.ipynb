{
  "nbformat": 4,
  "nbformat_minor": 0,
  "metadata": {
    "colab": {
      "name": "rcs1_TNLP_CSC_8980_HW1",
      "provenance": []
    },
    "kernelspec": {
      "name": "python3",
      "display_name": "Python 3"
    }
  },
  "cells": [
    {
      "cell_type": "markdown",
      "metadata": {
        "id": "WTx8h2g1xfg2"
      },
      "source": [
        "## Rajath Chikkatur Srinivasa - 002552425"
      ]
    },]
}
