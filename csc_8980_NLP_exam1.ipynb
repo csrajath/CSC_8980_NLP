{
  "nbformat": 4,
  "nbformat_minor": 0,
  "metadata": {
    "colab": {
      "name": "csc_8980_NLP_exam1.ipynb",
      "provenance": [],
      "authorship_tag": "ABX9TyPl+0fzM7HYsent83VL80xb",
      "include_colab_link": true
    },
    "kernelspec": {
      "name": "python3",
      "display_name": "Python 3"
    }
  },
  "cells": [
    {
      "cell_type": "markdown",
      "metadata": {
        "id": "view-in-github",
        "colab_type": "text"
      },
      "source": [
        "<a href=\"https://colab.research.google.com/github/csrajath/CSC_8980_NLP/blob/main/csc_8980_NLP_exam1.ipynb\" target=\"_parent\"><img src=\"https://colab.research.google.com/assets/colab-badge.svg\" alt=\"Open In Colab\"/></a>"
      ]
    },
    {
      "cell_type": "markdown",
      "metadata": {
        "id": "yVG6efrmXIIk"
      },
      "source": [
        "Name: **Rajath Chikkatur Srinivasa** \\\n",
        "PantherID: **002552425**"
      ]
    },
    {
      "cell_type": "markdown",
      "metadata": {
        "id": "N1pWQFr1XMUN"
      },
      "source": [
        ""
      ]
    }
  ]
}